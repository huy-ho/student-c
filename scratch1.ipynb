{
 "cells": [
  {
   "cell_type": "code",
   "execution_count": 61,
   "metadata": {},
   "outputs": [],
   "source": [
    "#pandas numpy\n",
    "import pandas as pd\n",
    "import numpy as np\n",
    "from numpy import mean\n",
    "\n",
    "#sklearn\n",
    "from sklearn import svm\n",
    "from sklearn.model_selection import train_test_split\n",
    "from sklearn.metrics import confusion_matrix, classification_report\n",
    "from sklearn import metrics\n",
    "from sklearn.tree import DecisionTreeClassifier\n",
    "from sklearn import tree\n",
    "\n",
    "#imblearn for imbalanced data\n",
    "from imblearn.pipeline import Pipeline\n",
    "from imblearn.over_sampling import SMOTE\n",
    "from imblearn.under_sampling import RandomUnderSampler\n",
    "from sklearn.model_selection import RepeatedStratifiedKFold, cross_val_score\n",
    "\n",
    "#matplotlib\n",
    "import matplotlib.pyplot as plt\n",
    "\n",
    "#counters\n",
    "from collections import Counter\n",
    "\n",
    "#others (os, graphwiz, excels)\n",
    "import graphviz \n",
    "import os\n",
    "import xlrd\n",
    "import openpyxl"
   ]
  },
  {
   "cell_type": "code",
   "execution_count": 62,
   "metadata": {},
   "outputs": [
    {
     "data": {
      "text/plain": [
       "'c:\\\\Users\\\\huyho\\\\OneDrive\\\\Desktop\\\\stuff\\\\student-c'"
      ]
     },
     "execution_count": 62,
     "metadata": {},
     "output_type": "execute_result"
    }
   ],
   "source": [
    "current_dir = os.getcwd()\n",
    "current_dir"
   ]
  },
  {
   "cell_type": "code",
   "execution_count": 63,
   "metadata": {},
   "outputs": [],
   "source": [
    "path = os.path.join(current_dir, \"RFEP Worksheet Fall20-21 Sample.xlsx\")"
   ]
  },
  {
   "cell_type": "code",
   "execution_count": 64,
   "metadata": {},
   "outputs": [
    {
     "data": {
      "text/html": [
       "<div>\n",
       "<style scoped>\n",
       "    .dataframe tbody tr th:only-of-type {\n",
       "        vertical-align: middle;\n",
       "    }\n",
       "\n",
       "    .dataframe tbody tr th {\n",
       "        vertical-align: top;\n",
       "    }\n",
       "\n",
       "    .dataframe thead th {\n",
       "        text-align: right;\n",
       "    }\n",
       "</style>\n",
       "<table border=\"1\" class=\"dataframe\">\n",
       "  <thead>\n",
       "    <tr style=\"text-align: right;\">\n",
       "      <th></th>\n",
       "      <th>Student ID</th>\n",
       "      <th>Last Name</th>\n",
       "      <th>First Name</th>\n",
       "      <th>Middle Name</th>\n",
       "      <th>Current Grade Level</th>\n",
       "      <th>Internal Student ID</th>\n",
       "      <th>Date Entered</th>\n",
       "      <th>Oral Comprehension (Listening)</th>\n",
       "      <th>Oral communication skills</th>\n",
       "      <th>Reading comprehension</th>\n",
       "      <th>...</th>\n",
       "      <th>Participates in classroom discussions</th>\n",
       "      <th>Completes written assignments</th>\n",
       "      <th>Works independently</th>\n",
       "      <th>Asks for help when needed</th>\n",
       "      <th>Interventions/modifications utilized with student and impact?</th>\n",
       "      <th>What additional support does this student need?</th>\n",
       "      <th>How can these recommendations be accomplished?</th>\n",
       "      <th>Course Long Name</th>\n",
       "      <th>First Name.1</th>\n",
       "      <th>Last Name.1</th>\n",
       "    </tr>\n",
       "  </thead>\n",
       "  <tbody>\n",
       "    <tr>\n",
       "      <th>0</th>\n",
       "      <td>13593</td>\n",
       "      <td>LastName01</td>\n",
       "      <td>FirstName01</td>\n",
       "      <td>Mddle01</td>\n",
       "      <td>11</td>\n",
       "      <td>5524</td>\n",
       "      <td>06-09-2021</td>\n",
       "      <td>5.0</td>\n",
       "      <td>5.0</td>\n",
       "      <td>3.0</td>\n",
       "      <td>...</td>\n",
       "      <td>3.0</td>\n",
       "      <td>3.0</td>\n",
       "      <td>3.0</td>\n",
       "      <td>4.0</td>\n",
       "      <td>Directions and expectations orally repeated.</td>\n",
       "      <td>NaN</td>\n",
       "      <td>NaN</td>\n",
       "      <td>English III</td>\n",
       "      <td>TeacherFirst</td>\n",
       "      <td>TeacherLast</td>\n",
       "    </tr>\n",
       "    <tr>\n",
       "      <th>1</th>\n",
       "      <td>12247</td>\n",
       "      <td>LastName02</td>\n",
       "      <td>FirstName02</td>\n",
       "      <td>Mddle02</td>\n",
       "      <td>11</td>\n",
       "      <td>1964</td>\n",
       "      <td>06-09-2021</td>\n",
       "      <td>3.0</td>\n",
       "      <td>4.0</td>\n",
       "      <td>3.0</td>\n",
       "      <td>...</td>\n",
       "      <td>2.0</td>\n",
       "      <td>2.0</td>\n",
       "      <td>3.0</td>\n",
       "      <td>3.0</td>\n",
       "      <td>NaN</td>\n",
       "      <td>NaN</td>\n",
       "      <td>NaN</td>\n",
       "      <td>English III</td>\n",
       "      <td>TeacherFirst</td>\n",
       "      <td>TeacherLast</td>\n",
       "    </tr>\n",
       "    <tr>\n",
       "      <th>2</th>\n",
       "      <td>92181</td>\n",
       "      <td>LastName03</td>\n",
       "      <td>FirstName03</td>\n",
       "      <td>Mddle03</td>\n",
       "      <td>11</td>\n",
       "      <td>4458</td>\n",
       "      <td>06-09-2021</td>\n",
       "      <td>5.0</td>\n",
       "      <td>5.0</td>\n",
       "      <td>3.0</td>\n",
       "      <td>...</td>\n",
       "      <td>3.0</td>\n",
       "      <td>3.0</td>\n",
       "      <td>3.0</td>\n",
       "      <td>3.0</td>\n",
       "      <td>Responds well to feedback and opportunities fo...</td>\n",
       "      <td>NaN</td>\n",
       "      <td>NaN</td>\n",
       "      <td>English III</td>\n",
       "      <td>TeacherFirst</td>\n",
       "      <td>TeacherLast</td>\n",
       "    </tr>\n",
       "    <tr>\n",
       "      <th>3</th>\n",
       "      <td>90277</td>\n",
       "      <td>LastName04</td>\n",
       "      <td>FirstName04</td>\n",
       "      <td>Mddle04</td>\n",
       "      <td>11</td>\n",
       "      <td>3461</td>\n",
       "      <td>06-09-2021</td>\n",
       "      <td>3.0</td>\n",
       "      <td>3.0</td>\n",
       "      <td>2.0</td>\n",
       "      <td>...</td>\n",
       "      <td>2.0</td>\n",
       "      <td>2.0</td>\n",
       "      <td>2.0</td>\n",
       "      <td>3.0</td>\n",
       "      <td>NaN</td>\n",
       "      <td>NaN</td>\n",
       "      <td>NaN</td>\n",
       "      <td>English III</td>\n",
       "      <td>TeacherFirst</td>\n",
       "      <td>TeacherLast</td>\n",
       "    </tr>\n",
       "    <tr>\n",
       "      <th>4</th>\n",
       "      <td>90298</td>\n",
       "      <td>LastName05</td>\n",
       "      <td>FirstName05</td>\n",
       "      <td>Mddle05</td>\n",
       "      <td>11</td>\n",
       "      <td>3485</td>\n",
       "      <td>06-09-2021</td>\n",
       "      <td>3.0</td>\n",
       "      <td>3.0</td>\n",
       "      <td>2.0</td>\n",
       "      <td>...</td>\n",
       "      <td>3.0</td>\n",
       "      <td>2.0</td>\n",
       "      <td>2.0</td>\n",
       "      <td>4.0</td>\n",
       "      <td>NaN</td>\n",
       "      <td>NaN</td>\n",
       "      <td>NaN</td>\n",
       "      <td>English III</td>\n",
       "      <td>TeacherFirst</td>\n",
       "      <td>TeacherLast</td>\n",
       "    </tr>\n",
       "  </tbody>\n",
       "</table>\n",
       "<p>5 rows × 22 columns</p>\n",
       "</div>"
      ],
      "text/plain": [
       "   Student ID   Last Name   First Name Middle Name  Current Grade Level  \\\n",
       "0       13593  LastName01  FirstName01     Mddle01                   11   \n",
       "1       12247  LastName02  FirstName02     Mddle02                   11   \n",
       "2       92181  LastName03  FirstName03     Mddle03                   11   \n",
       "3       90277  LastName04  FirstName04     Mddle04                   11   \n",
       "4       90298  LastName05  FirstName05     Mddle05                   11   \n",
       "\n",
       "   Internal Student ID Date Entered  Oral Comprehension (Listening)  \\\n",
       "0                 5524   06-09-2021                             5.0   \n",
       "1                 1964   06-09-2021                             3.0   \n",
       "2                 4458   06-09-2021                             5.0   \n",
       "3                 3461   06-09-2021                             3.0   \n",
       "4                 3485   06-09-2021                             3.0   \n",
       "\n",
       "   Oral communication skills  Reading comprehension  ...  \\\n",
       "0                        5.0                    3.0  ...   \n",
       "1                        4.0                    3.0  ...   \n",
       "2                        5.0                    3.0  ...   \n",
       "3                        3.0                    2.0  ...   \n",
       "4                        3.0                    2.0  ...   \n",
       "\n",
       "   Participates in classroom discussions  Completes written assignments  \\\n",
       "0                                    3.0                            3.0   \n",
       "1                                    2.0                            2.0   \n",
       "2                                    3.0                            3.0   \n",
       "3                                    2.0                            2.0   \n",
       "4                                    3.0                            2.0   \n",
       "\n",
       "   Works independently  Asks for help when needed  \\\n",
       "0                  3.0                        4.0   \n",
       "1                  3.0                        3.0   \n",
       "2                  3.0                        3.0   \n",
       "3                  2.0                        3.0   \n",
       "4                  2.0                        4.0   \n",
       "\n",
       "   Interventions/modifications utilized with student and impact?  \\\n",
       "0       Directions and expectations orally repeated.               \n",
       "1                                                NaN               \n",
       "2  Responds well to feedback and opportunities fo...               \n",
       "3                                                NaN               \n",
       "4                                                NaN               \n",
       "\n",
       "   What additional support does this student need?  \\\n",
       "0                                              NaN   \n",
       "1                                              NaN   \n",
       "2                                              NaN   \n",
       "3                                              NaN   \n",
       "4                                              NaN   \n",
       "\n",
       "  How can these recommendations be accomplished? Course Long Name  \\\n",
       "0                                            NaN      English III   \n",
       "1                                            NaN      English III   \n",
       "2                                            NaN      English III   \n",
       "3                                            NaN      English III   \n",
       "4                                            NaN      English III   \n",
       "\n",
       "   First Name.1  Last Name.1  \n",
       "0  TeacherFirst  TeacherLast  \n",
       "1  TeacherFirst  TeacherLast  \n",
       "2  TeacherFirst  TeacherLast  \n",
       "3  TeacherFirst  TeacherLast  \n",
       "4  TeacherFirst  TeacherLast  \n",
       "\n",
       "[5 rows x 22 columns]"
      ]
     },
     "execution_count": 64,
     "metadata": {},
     "output_type": "execute_result"
    }
   ],
   "source": [
    "el_monitoring_df = pd.read_csv('elmonitoring.csv')\n",
    "el_monitoring_df.head()"
   ]
  },
  {
   "cell_type": "code",
   "execution_count": 65,
   "metadata": {},
   "outputs": [
    {
     "data": {
      "text/html": [
       "<div>\n",
       "<style scoped>\n",
       "    .dataframe tbody tr th:only-of-type {\n",
       "        vertical-align: middle;\n",
       "    }\n",
       "\n",
       "    .dataframe tbody tr th {\n",
       "        vertical-align: top;\n",
       "    }\n",
       "\n",
       "    .dataframe thead th {\n",
       "        text-align: right;\n",
       "    }\n",
       "</style>\n",
       "<table border=\"1\" class=\"dataframe\">\n",
       "  <thead>\n",
       "    <tr style=\"text-align: right;\">\n",
       "      <th></th>\n",
       "      <th>School Abbr</th>\n",
       "      <th>School Name</th>\n",
       "      <th>SN</th>\n",
       "      <th>SSID</th>\n",
       "      <th>Name</th>\n",
       "      <th>DOB</th>\n",
       "      <th>Grade</th>\n",
       "      <th>PriLangCode</th>\n",
       "      <th>PriLanguage</th>\n",
       "      <th>NDL</th>\n",
       "      <th>...</th>\n",
       "      <th>RFEP Eligible via ICA</th>\n",
       "      <th>RFEP Eligible if ICA?</th>\n",
       "      <th>WPA Date</th>\n",
       "      <th>WPAPerformanceLvl</th>\n",
       "      <th>RFEP Eligible via WPA</th>\n",
       "      <th>First Term Eng Grade</th>\n",
       "      <th>First Term Eng Class</th>\n",
       "      <th>First Term Store Code</th>\n",
       "      <th>Current GPA</th>\n",
       "      <th>RFEP Overall Eligible</th>\n",
       "    </tr>\n",
       "  </thead>\n",
       "  <tbody>\n",
       "    <tr>\n",
       "      <th>0</th>\n",
       "      <td>DCP ECMS</td>\n",
       "      <td>Downtown College Prep Middle School</td>\n",
       "      <td>13371</td>\n",
       "      <td>2257212284</td>\n",
       "      <td>Last, First 1</td>\n",
       "      <td>2009-08-05</td>\n",
       "      <td>6</td>\n",
       "      <td>60</td>\n",
       "      <td>Somali</td>\n",
       "      <td>NaN</td>\n",
       "      <td>...</td>\n",
       "      <td>No</td>\n",
       "      <td>No</td>\n",
       "      <td>NaT</td>\n",
       "      <td>NaN</td>\n",
       "      <td>No</td>\n",
       "      <td>B</td>\n",
       "      <td>Humanities 6</td>\n",
       "      <td>Q1</td>\n",
       "      <td>2.67</td>\n",
       "      <td>No</td>\n",
       "    </tr>\n",
       "    <tr>\n",
       "      <th>1</th>\n",
       "      <td>DCP ECMS</td>\n",
       "      <td>Downtown College Prep Middle School</td>\n",
       "      <td>14032</td>\n",
       "      <td>3058046796</td>\n",
       "      <td>Last, First 2</td>\n",
       "      <td>2007-01-06</td>\n",
       "      <td>8</td>\n",
       "      <td>1</td>\n",
       "      <td>Spanish</td>\n",
       "      <td>NaN</td>\n",
       "      <td>...</td>\n",
       "      <td>No</td>\n",
       "      <td>No</td>\n",
       "      <td>NaT</td>\n",
       "      <td>NaN</td>\n",
       "      <td>No</td>\n",
       "      <td>A+</td>\n",
       "      <td>Humanities 8</td>\n",
       "      <td>Q1</td>\n",
       "      <td>4.00</td>\n",
       "      <td>No</td>\n",
       "    </tr>\n",
       "    <tr>\n",
       "      <th>2</th>\n",
       "      <td>DCP EPHS</td>\n",
       "      <td>Downtown College Prep</td>\n",
       "      <td>12289</td>\n",
       "      <td>7503957990</td>\n",
       "      <td>Last, First 3</td>\n",
       "      <td>2005-03-11</td>\n",
       "      <td>10</td>\n",
       "      <td>1</td>\n",
       "      <td>Spanish</td>\n",
       "      <td>NaN</td>\n",
       "      <td>...</td>\n",
       "      <td>No</td>\n",
       "      <td>No</td>\n",
       "      <td>NaT</td>\n",
       "      <td>NaN</td>\n",
       "      <td>No</td>\n",
       "      <td>F</td>\n",
       "      <td>English II</td>\n",
       "      <td>P1</td>\n",
       "      <td>0.00</td>\n",
       "      <td>No</td>\n",
       "    </tr>\n",
       "    <tr>\n",
       "      <th>3</th>\n",
       "      <td>DCP ARHS</td>\n",
       "      <td>DCP Alum Rock High School</td>\n",
       "      <td>13289</td>\n",
       "      <td>2298814176</td>\n",
       "      <td>Last, First 4</td>\n",
       "      <td>2006-11-01</td>\n",
       "      <td>9</td>\n",
       "      <td>1</td>\n",
       "      <td>Spanish</td>\n",
       "      <td>NaN</td>\n",
       "      <td>...</td>\n",
       "      <td>No</td>\n",
       "      <td>No</td>\n",
       "      <td>2020-10-15</td>\n",
       "      <td>3.0</td>\n",
       "      <td>No</td>\n",
       "      <td>A</td>\n",
       "      <td>English I</td>\n",
       "      <td>Q1</td>\n",
       "      <td>3.40</td>\n",
       "      <td>No</td>\n",
       "    </tr>\n",
       "    <tr>\n",
       "      <th>4</th>\n",
       "      <td>DCP ECMS</td>\n",
       "      <td>Downtown College Prep Middle School</td>\n",
       "      <td>12980</td>\n",
       "      <td>1527690431</td>\n",
       "      <td>Last, First 5</td>\n",
       "      <td>2008-02-09</td>\n",
       "      <td>7</td>\n",
       "      <td>1</td>\n",
       "      <td>Spanish</td>\n",
       "      <td>NaN</td>\n",
       "      <td>...</td>\n",
       "      <td>No</td>\n",
       "      <td>No</td>\n",
       "      <td>NaT</td>\n",
       "      <td>NaN</td>\n",
       "      <td>No</td>\n",
       "      <td>A+</td>\n",
       "      <td>Humanities 7</td>\n",
       "      <td>Q1</td>\n",
       "      <td>3.33</td>\n",
       "      <td>No</td>\n",
       "    </tr>\n",
       "  </tbody>\n",
       "</table>\n",
       "<p>5 rows × 37 columns</p>\n",
       "</div>"
      ],
      "text/plain": [
       "  School Abbr                          School Name     SN        SSID  \\\n",
       "0    DCP ECMS  Downtown College Prep Middle School  13371  2257212284   \n",
       "1    DCP ECMS  Downtown College Prep Middle School  14032  3058046796   \n",
       "2    DCP EPHS                Downtown College Prep  12289  7503957990   \n",
       "3    DCP ARHS            DCP Alum Rock High School  13289  2298814176   \n",
       "4    DCP ECMS  Downtown College Prep Middle School  12980  1527690431   \n",
       "\n",
       "            Name        DOB  Grade  PriLangCode PriLanguage  NDL  ...  \\\n",
       "0  Last, First 1 2009-08-05      6           60      Somali  NaN  ...   \n",
       "1  Last, First 2 2007-01-06      8            1     Spanish  NaN  ...   \n",
       "2  Last, First 3 2005-03-11     10            1     Spanish  NaN  ...   \n",
       "3  Last, First 4 2006-11-01      9            1     Spanish  NaN  ...   \n",
       "4  Last, First 5 2008-02-09      7            1     Spanish  NaN  ...   \n",
       "\n",
       "   RFEP Eligible via ICA RFEP Eligible if ICA?   WPA Date  WPAPerformanceLvl  \\\n",
       "0                     No                    No        NaT                NaN   \n",
       "1                     No                    No        NaT                NaN   \n",
       "2                     No                    No        NaT                NaN   \n",
       "3                     No                    No 2020-10-15                3.0   \n",
       "4                     No                    No        NaT                NaN   \n",
       "\n",
       "   RFEP Eligible via WPA  First Term Eng Grade  First Term Eng Class  \\\n",
       "0                     No                     B          Humanities 6   \n",
       "1                     No                    A+          Humanities 8   \n",
       "2                     No                     F            English II   \n",
       "3                     No                     A             English I   \n",
       "4                     No                    A+          Humanities 7   \n",
       "\n",
       "   First Term Store Code  Current GPA RFEP Overall Eligible  \n",
       "0                     Q1         2.67                    No  \n",
       "1                     Q1         4.00                    No  \n",
       "2                     P1         0.00                    No  \n",
       "3                     Q1         3.40                    No  \n",
       "4                     Q1         3.33                    No  \n",
       "\n",
       "[5 rows x 37 columns]"
      ]
     },
     "execution_count": 65,
     "metadata": {},
     "output_type": "execute_result"
    }
   ],
   "source": [
    "xls = pd.ExcelFile(path)\n",
    "student_list_df = pd.read_excel(xls, sheet_name=1)\n",
    "wpa_data_df = pd.read_excel(xls, sheet_name=2)\n",
    "student_list_df.head()"
   ]
  },
  {
   "cell_type": "code",
   "execution_count": 66,
   "metadata": {},
   "outputs": [
    {
     "name": "stdout",
     "output_type": "stream",
     "text": [
      "# or rows:  641\n",
      "# of Eligible Students:  12\n",
      "proportions : 0.0187207488299532\n"
     ]
    }
   ],
   "source": [
    "print('# or rows: ', len(student_list_df))\n",
    "print('# of Eligible Students: ', len(student_list_df[student_list_df['RFEP Overall Eligible'] == 'Yes']))\n",
    "print('proportions :', 12/641)"
   ]
  },
  {
   "cell_type": "code",
   "execution_count": 67,
   "metadata": {},
   "outputs": [
    {
     "data": {
      "text/plain": [
       "Index(['School Abbr', 'School Name', 'SN', 'SSID', 'Name', 'DOB', 'Grade',\n",
       "       'PriLangCode', 'PriLanguage', 'NDL', '18-19 Overall ELPAC',\n",
       "       '18-19 NWEA Date', 'Oral Level', 'Written Level', 'Listening',\n",
       "       'Speaking', 'Reading', 'Writing', '19-20 Overall ELPAC',\n",
       "       '20-21 Fall NWEA Date', '20-21 Fall NWEA RIT',\n",
       "       '20-21 Fall NWEA Eligible', 'RFEP Eligible via NWEA',\n",
       "       'RFEP Eligible if NWEA?', '20-21 ICA ELA Date',\n",
       "       '20-21 ICA ELA Scale Score', '20-21 ICA ELA Distance to Met',\n",
       "       'RFEP Eligible via ICA', 'RFEP Eligible if ICA?', 'WPA Date',\n",
       "       'WPAPerformanceLvl', 'RFEP Eligible via WPA', 'First Term Eng Grade',\n",
       "       'First Term Eng Class', 'First Term Store Code', 'Current GPA',\n",
       "       'RFEP Overall Eligible'],\n",
       "      dtype='object')"
      ]
     },
     "execution_count": 67,
     "metadata": {},
     "output_type": "execute_result"
    }
   ],
   "source": [
    "#look at the columns to see what features we can use\n",
    "student_list_df.columns"
   ]
  },
  {
   "cell_type": "code",
   "execution_count": 68,
   "metadata": {},
   "outputs": [
    {
     "data": {
      "text/plain": [
       "0      No\n",
       "1      No\n",
       "2      No\n",
       "3      No\n",
       "4      No\n",
       "       ..\n",
       "636    No\n",
       "637    No\n",
       "638    No\n",
       "639    No\n",
       "640    No\n",
       "Name: RFEP Overall Eligible, Length: 641, dtype: object"
      ]
     },
     "execution_count": 68,
     "metadata": {},
     "output_type": "execute_result"
    }
   ],
   "source": [
    "student_list_df['RFEP Overall Eligible']"
   ]
  },
  {
   "cell_type": "code",
   "execution_count": 69,
   "metadata": {},
   "outputs": [
    {
     "data": {
      "text/plain": [
       "School Abbr                        0\n",
       "School Name                        0\n",
       "SN                                 0\n",
       "SSID                               0\n",
       "Name                               0\n",
       "DOB                                0\n",
       "Grade                              0\n",
       "PriLangCode                        0\n",
       "PriLanguage                        0\n",
       "NDL                              475\n",
       "18-19 Overall ELPAC              167\n",
       "18-19 NWEA Date                  167\n",
       "Oral Level                         3\n",
       "Written Level                      3\n",
       "Listening                        167\n",
       "Speaking                         167\n",
       "Reading                          167\n",
       "Writing                          167\n",
       "19-20 Overall ELPAC              641\n",
       "20-21 Fall NWEA Date             369\n",
       "20-21 Fall NWEA RIT              369\n",
       "20-21 Fall NWEA Eligible           0\n",
       "RFEP Eligible via NWEA             0\n",
       "RFEP Eligible if NWEA?             0\n",
       "20-21 ICA ELA Date               496\n",
       "20-21 ICA ELA Scale Score        496\n",
       "20-21 ICA ELA Distance to Met    496\n",
       "RFEP Eligible via ICA              0\n",
       "RFEP Eligible if ICA?              0\n",
       "WPA Date                         492\n",
       "WPAPerformanceLvl                492\n",
       "RFEP Eligible via WPA              0\n",
       "First Term Eng Grade              15\n",
       "First Term Eng Class              15\n",
       "First Term Store Code             15\n",
       "Current GPA                        1\n",
       "RFEP Overall Eligible              0\n",
       "dtype: int64"
      ]
     },
     "execution_count": 69,
     "metadata": {},
     "output_type": "execute_result"
    }
   ],
   "source": [
    "#seeing what columns to take for classification\n",
    "#student_list_df['18-19 Overall ELPAC'].value_counts() #good\n",
    "#student_list_df['20-21 ICA ELA Scale Score'].value_counts()  #too many null values 496\n",
    "student_list_df.isna().sum()"
   ]
  },
  {
   "cell_type": "code",
   "execution_count": 70,
   "metadata": {},
   "outputs": [],
   "source": [
    "#change rfep overall eligible from Yes -> 1 and No -> 0\n",
    "student_list_df['RFEP Overall Eligible'] = student_list_df['RFEP Overall Eligible'].replace({'Yes': 1, 'No': 0})\n",
    "        "
   ]
  },
  {
   "cell_type": "code",
   "execution_count": 71,
   "metadata": {},
   "outputs": [],
   "source": [
    "x = student_list_df[['Oral Level', 'Written Level', 'Listening', 'Speaking', 'Reading', 'Writing' , 'Current GPA', '18-19 Overall ELPAC']]\n",
    "y = student_list_df['RFEP Overall Eligible']"
   ]
  },
  {
   "cell_type": "code",
   "execution_count": 72,
   "metadata": {},
   "outputs": [],
   "source": [
    "x = x.fillna(0)"
   ]
  },
  {
   "cell_type": "code",
   "execution_count": 73,
   "metadata": {},
   "outputs": [],
   "source": [
    "x = x.values\n",
    "y = y.values"
   ]
  },
  {
   "cell_type": "code",
   "execution_count": 74,
   "metadata": {},
   "outputs": [
    {
     "data": {
      "text/plain": [
       "161"
      ]
     },
     "execution_count": 74,
     "metadata": {},
     "output_type": "execute_result"
    }
   ],
   "source": [
    "xtrain, xtest, ytrain, ytest = train_test_split(x, y, test_size=0.25)\n",
    "len(xtest)"
   ]
  },
  {
   "cell_type": "code",
   "execution_count": 75,
   "metadata": {},
   "outputs": [
    {
     "data": {
      "text/plain": [
       "SVC(kernel='linear')"
      ]
     },
     "execution_count": 75,
     "metadata": {},
     "output_type": "execute_result"
    }
   ],
   "source": [
    "svc = svm.SVC(kernel='linear')\n",
    "svc.fit(x , y)"
   ]
  },
  {
   "cell_type": "code",
   "execution_count": 76,
   "metadata": {},
   "outputs": [
    {
     "name": "stdout",
     "output_type": "stream",
     "text": [
      "Score: 0.9791666666666666\n"
     ]
    }
   ],
   "source": [
    "score = svc.score(xtrain, ytrain)\n",
    "print('Score:', score)"
   ]
  },
  {
   "cell_type": "code",
   "execution_count": 77,
   "metadata": {},
   "outputs": [],
   "source": [
    "ypred = svc.predict(xtest)"
   ]
  },
  {
   "cell_type": "code",
   "execution_count": 78,
   "metadata": {},
   "outputs": [
    {
     "data": {
      "text/plain": [
       "array([0, 0, 0, 0, 0, 0, 0, 0, 0, 0, 0, 0, 0, 0, 0, 0, 0, 0, 0, 0, 0, 0,\n",
       "       0, 0, 0, 0, 0, 0, 0, 0, 0, 0, 0, 0, 0, 0, 0, 0, 0, 0, 0, 0, 0, 0,\n",
       "       0, 0, 0, 0, 0, 0, 0, 0, 0, 0, 0, 0, 0, 0, 0, 0, 0, 0, 0, 0, 0, 0,\n",
       "       0, 0, 0, 0, 0, 0, 0, 0, 0, 0, 0, 0, 0, 0, 0, 0, 0, 0, 0, 0, 0, 0,\n",
       "       0, 0, 0, 0, 0, 0, 0, 0, 0, 0, 0, 0, 0, 0, 0, 0, 0, 0, 0, 0, 0, 0,\n",
       "       0, 0, 0, 0, 0, 0, 0, 0, 0, 0, 0, 0, 0, 0, 0, 0, 0, 0, 0, 0, 0, 0,\n",
       "       0, 0, 0, 0, 0, 0, 0, 0, 0, 0, 0, 0, 0, 0, 0, 0, 0, 0, 0, 0, 0, 0,\n",
       "       0, 0, 0, 0, 0, 0, 0], dtype=int64)"
      ]
     },
     "execution_count": 78,
     "metadata": {},
     "output_type": "execute_result"
    }
   ],
   "source": [
    "ypred"
   ]
  },
  {
   "cell_type": "code",
   "execution_count": 79,
   "metadata": {},
   "outputs": [
    {
     "name": "stdout",
     "output_type": "stream",
     "text": [
      "Accuracy:  0.9875776397515528\n"
     ]
    }
   ],
   "source": [
    "\n",
    "\n",
    "print(\"Accuracy: \", metrics.accuracy_score(ytest, ypred))"
   ]
  },
  {
   "cell_type": "code",
   "execution_count": 80,
   "metadata": {},
   "outputs": [
    {
     "data": {
      "text/plain": [
       "array([[1.  , 1.  , 1.  , ..., 1.  , 4.  , 1.  ],\n",
       "       [4.  , 1.  , 2.  , ..., 2.  , 1.  , 3.  ],\n",
       "       [0.  , 0.  , 0.  , ..., 0.  , 2.67, 0.  ],\n",
       "       ...,\n",
       "       [3.  , 2.  , 2.  , ..., 2.  , 2.33, 2.  ],\n",
       "       [3.  , 1.  , 2.  , ..., 2.  , 0.75, 2.  ],\n",
       "       [0.  , 0.  , 0.  , ..., 0.  , 1.75, 0.  ]])"
      ]
     },
     "execution_count": 80,
     "metadata": {},
     "output_type": "execute_result"
    }
   ],
   "source": [
    "xtrain"
   ]
  },
  {
   "cell_type": "code",
   "execution_count": 81,
   "metadata": {},
   "outputs": [
    {
     "data": {
      "text/plain": [
       "array([0], dtype=int64)"
      ]
     },
     "execution_count": 81,
     "metadata": {},
     "output_type": "execute_result"
    }
   ],
   "source": [
    "prediction = svc.predict([[4,4,4,4,4,4,4, 4]])\n",
    "prediction \n",
    "#wont work because it predicts 0 for pretty much everything"
   ]
  },
  {
   "cell_type": "code",
   "execution_count": 82,
   "metadata": {},
   "outputs": [
    {
     "data": {
      "text/plain": [
       "0    629\n",
       "1     12\n",
       "Name: RFEP Overall Eligible, dtype: int64"
      ]
     },
     "execution_count": 82,
     "metadata": {},
     "output_type": "execute_result"
    }
   ],
   "source": [
    "student_list_df['RFEP Overall Eligible'].value_counts()"
   ]
  },
  {
   "cell_type": "code",
   "execution_count": 83,
   "metadata": {},
   "outputs": [],
   "source": [
    "dectree = DecisionTreeClassifier()\n",
    "\n",
    "dectree = dectree.fit(xtrain, ytrain)"
   ]
  },
  {
   "cell_type": "code",
   "execution_count": 84,
   "metadata": {},
   "outputs": [],
   "source": [
    "y_pred_dectree = dectree.predict(xtest)"
   ]
  },
  {
   "cell_type": "code",
   "execution_count": 85,
   "metadata": {},
   "outputs": [
    {
     "name": "stdout",
     "output_type": "stream",
     "text": [
      "Accuracy: 0.9813664596273292\n"
     ]
    }
   ],
   "source": [
    "print(\"Accuracy:\", metrics.accuracy_score(ytest, y_pred_dectree))"
   ]
  },
  {
   "cell_type": "code",
   "execution_count": 86,
   "metadata": {},
   "outputs": [
    {
     "data": {
      "text/plain": [
       "[Text(172.32352941176472, 205.35999999999999, 'X[7] <= 3.5\\ngini = 0.041\\nsamples = 480\\nvalue = [470, 10]'),\n",
       " Text(152.62941176470588, 181.2, 'gini = 0.0\\nsamples = 425\\nvalue = [425, 0]'),\n",
       " Text(192.01764705882354, 181.2, 'X[6] <= 3.685\\ngini = 0.298\\nsamples = 55\\nvalue = [45, 10]'),\n",
       " Text(128.01176470588237, 157.04, 'X[6] <= 0.725\\ngini = 0.201\\nsamples = 44\\nvalue = [39, 5]'),\n",
       " Text(78.7764705882353, 132.88, 'X[6] <= 0.685\\ngini = 0.408\\nsamples = 7\\nvalue = [5, 2]'),\n",
       " Text(59.082352941176474, 108.72, 'X[1] <= 2.5\\ngini = 0.278\\nsamples = 6\\nvalue = [5, 1]'),\n",
       " Text(39.38823529411765, 84.56, 'X[6] <= 0.335\\ngini = 0.375\\nsamples = 4\\nvalue = [3, 1]'),\n",
       " Text(19.694117647058825, 60.400000000000006, 'gini = 0.0\\nsamples = 2\\nvalue = [2, 0]'),\n",
       " Text(59.082352941176474, 60.400000000000006, 'gini = 0.5\\nsamples = 2\\nvalue = [1, 1]'),\n",
       " Text(78.7764705882353, 84.56, 'gini = 0.0\\nsamples = 2\\nvalue = [2, 0]'),\n",
       " Text(98.47058823529412, 108.72, 'gini = 0.0\\nsamples = 1\\nvalue = [0, 1]'),\n",
       " Text(177.24705882352941, 132.88, 'X[1] <= 3.5\\ngini = 0.149\\nsamples = 37\\nvalue = [34, 3]'),\n",
       " Text(137.85882352941178, 108.72, 'X[2] <= 2.5\\ngini = 0.064\\nsamples = 30\\nvalue = [29, 1]'),\n",
       " Text(118.16470588235295, 84.56, 'X[6] <= 2.75\\ngini = 0.124\\nsamples = 15\\nvalue = [14, 1]'),\n",
       " Text(98.47058823529412, 60.400000000000006, 'X[6] <= 2.35\\ngini = 0.278\\nsamples = 6\\nvalue = [5, 1]'),\n",
       " Text(78.7764705882353, 36.24000000000001, 'gini = 0.0\\nsamples = 5\\nvalue = [5, 0]'),\n",
       " Text(118.16470588235295, 36.24000000000001, 'gini = 0.0\\nsamples = 1\\nvalue = [0, 1]'),\n",
       " Text(137.85882352941178, 60.400000000000006, 'gini = 0.0\\nsamples = 9\\nvalue = [9, 0]'),\n",
       " Text(157.5529411764706, 84.56, 'gini = 0.0\\nsamples = 15\\nvalue = [15, 0]'),\n",
       " Text(216.63529411764708, 108.72, 'X[6] <= 3.25\\ngini = 0.408\\nsamples = 7\\nvalue = [5, 2]'),\n",
       " Text(196.94117647058823, 84.56, 'X[2] <= 2.5\\ngini = 0.48\\nsamples = 5\\nvalue = [3, 2]'),\n",
       " Text(177.24705882352941, 60.400000000000006, 'gini = 0.0\\nsamples = 1\\nvalue = [0, 1]'),\n",
       " Text(216.63529411764708, 60.400000000000006, 'X[6] <= 2.3\\ngini = 0.375\\nsamples = 4\\nvalue = [3, 1]'),\n",
       " Text(196.94117647058823, 36.24000000000001, 'X[6] <= 2.1\\ngini = 0.5\\nsamples = 2\\nvalue = [1, 1]'),\n",
       " Text(177.24705882352941, 12.079999999999984, 'gini = 0.0\\nsamples = 1\\nvalue = [1, 0]'),\n",
       " Text(216.63529411764708, 12.079999999999984, 'gini = 0.0\\nsamples = 1\\nvalue = [0, 1]'),\n",
       " Text(236.3294117647059, 36.24000000000001, 'gini = 0.0\\nsamples = 2\\nvalue = [2, 0]'),\n",
       " Text(236.3294117647059, 84.56, 'gini = 0.0\\nsamples = 2\\nvalue = [2, 0]'),\n",
       " Text(256.02352941176474, 157.04, 'X[1] <= 2.5\\ngini = 0.496\\nsamples = 11\\nvalue = [6, 5]'),\n",
       " Text(236.3294117647059, 132.88, 'gini = 0.0\\nsamples = 3\\nvalue = [3, 0]'),\n",
       " Text(275.71764705882356, 132.88, 'X[1] <= 3.5\\ngini = 0.469\\nsamples = 8\\nvalue = [3, 5]'),\n",
       " Text(256.02352941176474, 108.72, 'gini = 0.0\\nsamples = 4\\nvalue = [0, 4]'),\n",
       " Text(295.4117647058824, 108.72, 'X[5] <= 2.5\\ngini = 0.375\\nsamples = 4\\nvalue = [3, 1]'),\n",
       " Text(275.71764705882356, 84.56, 'gini = 0.0\\nsamples = 3\\nvalue = [3, 0]'),\n",
       " Text(315.1058823529412, 84.56, 'gini = 0.0\\nsamples = 1\\nvalue = [0, 1]')]"
      ]
     },
     "execution_count": 86,
     "metadata": {},
     "output_type": "execute_result"
    },
    {
     "data": {
      "image/png": "[encoded data removed]",
      "text/plain": [
       "<Figure size 432x288 with 1 Axes>"
      ]
     },
     "metadata": {
      "needs_background": "light"
     },
     "output_type": "display_data"
    }
   ],
   "source": [
    "tree.plot_tree(dectree)"
   ]
  },
  {
   "cell_type": "code",
   "execution_count": 87,
   "metadata": {},
   "outputs": [
    {
     "data": {
      "text/plain": [
       "\"da = tree.export_graphviz(dectree, out_file=None)\\ngraph = graphviz.Source(da)\\ngraph.render('c:\\\\Users\\\\huyho\\\\OneDrive\\\\Desktop\\\\student-c\\\\test')\""
      ]
     },
     "execution_count": 87,
     "metadata": {},
     "output_type": "execute_result"
    }
   ],
   "source": [
    "\"\"\"da = tree.export_graphviz(dectree, out_file=None)\n",
    "graph = graphviz.Source(da)\n",
    "graph.render('c:\\\\Users\\\\huyho\\\\OneDrive\\\\Desktop\\\\student-c\\\\test')\"\"\""
   ]
  },
  {
   "cell_type": "code",
   "execution_count": 88,
   "metadata": {},
   "outputs": [],
   "source": [
    "over = SMOTE(sampling_strategy=0.1) #oversample the minority class to 1:10 ratio\n",
    "under = RandomUnderSampler(sampling_strategy=0.2) #undersample the majority class to a 1:2 ratio\n",
    "steps = [('over', over), ('under', under)]\n",
    "pipeline = Pipeline(steps=steps)\n",
    "x, y = pipeline.fit_resample(x, y)"
   ]
  },
  {
   "cell_type": "code",
   "execution_count": 89,
   "metadata": {},
   "outputs": [
    {
     "data": {
      "text/plain": [
       "372"
      ]
     },
     "execution_count": 89,
     "metadata": {},
     "output_type": "execute_result"
    }
   ],
   "source": [
    "len(x)\n"
   ]
  },
  {
   "cell_type": "code",
   "execution_count": 90,
   "metadata": {},
   "outputs": [
    {
     "name": "stdout",
     "output_type": "stream",
     "text": [
      "0 classes:  310\n",
      "1 classes:  62\n"
     ]
    }
   ],
   "source": [
    "counter0 = 0\n",
    "counter1 = 0\n",
    "for i in y:\n",
    "    if i == 0:\n",
    "        counter0 += 1\n",
    "    elif i == 1:\n",
    "        counter1 += 1\n",
    "print(\"0 classes: \", counter0)\n",
    "print(\"1 classes: \", counter1)\n",
    "    "
   ]
  },
  {
   "cell_type": "code",
   "execution_count": 91,
   "metadata": {},
   "outputs": [],
   "source": [
    "from sklearn.preprocessing import StandardScaler"
   ]
  },
  {
   "cell_type": "code",
   "execution_count": 92,
   "metadata": {},
   "outputs": [],
   "source": [
    "scaler = StandardScaler()"
   ]
  },
  {
   "cell_type": "code",
   "execution_count": 93,
   "metadata": {},
   "outputs": [],
   "source": [
    "x_scaled = scaler.fit_transform(x)"
   ]
  },
  {
   "cell_type": "code",
   "execution_count": 94,
   "metadata": {},
   "outputs": [],
   "source": [
    "xtrain, xtest, ytrain, ytest = train_test_split(x, y, test_size=0.25)"
   ]
  },
  {
   "cell_type": "code",
   "execution_count": 95,
   "metadata": {},
   "outputs": [
    {
     "data": {
      "text/plain": [
       "SVC(kernel='linear')"
      ]
     },
     "execution_count": 95,
     "metadata": {},
     "output_type": "execute_result"
    }
   ],
   "source": [
    "svc = svm.SVC(kernel='linear')\n",
    "svc.fit(xtrain , ytrain)"
   ]
  },
  {
   "cell_type": "code",
   "execution_count": 96,
   "metadata": {},
   "outputs": [
    {
     "name": "stdout",
     "output_type": "stream",
     "text": [
      "Score: 0.9605734767025089\n"
     ]
    },
    {
     "data": {
      "text/plain": [
       "array([1, 0, 0, 1, 0, 1, 0, 0, 0, 0, 0, 0, 0, 0, 0, 0, 0, 0, 0, 0, 0, 0,\n",
       "       0, 1, 1, 0, 0, 0, 1, 0, 0, 0, 0, 1, 0, 0, 0, 0, 0, 0, 0, 0, 0, 1,\n",
       "       0, 0, 0, 0, 0, 0, 0, 0, 0, 0, 0, 0, 0, 0, 0, 0, 0, 1, 0, 0, 1, 1,\n",
       "       0, 1, 0, 0, 0, 0, 0, 0, 0, 1, 0, 0, 0, 0, 0, 0, 0, 0, 0, 0, 0, 1,\n",
       "       0, 0, 1, 0, 1], dtype=int64)"
      ]
     },
     "execution_count": 96,
     "metadata": {},
     "output_type": "execute_result"
    }
   ],
   "source": [
    "score = svc.score(xtrain, ytrain)\n",
    "print('Score:', score)\n",
    "ypred = svc.predict(xtest)\n",
    "ypred"
   ]
  },
  {
   "cell_type": "code",
   "execution_count": 97,
   "metadata": {},
   "outputs": [
    {
     "name": "stdout",
     "output_type": "stream",
     "text": [
      "Accuracy:  0.9354838709677419\n"
     ]
    }
   ],
   "source": [
    "print(\"Accuracy: \", metrics.accuracy_score(ytest, ypred))"
   ]
  },
  {
   "cell_type": "code",
   "execution_count": 98,
   "metadata": {},
   "outputs": [
    {
     "data": {
      "text/plain": [
       "array([1], dtype=int64)"
      ]
     },
     "execution_count": 98,
     "metadata": {},
     "output_type": "execute_result"
    }
   ],
   "source": [
    "#making a predictions\n",
    "#'Oral Level', 'Written Level', 'Listening', 'Speaking', 'Reading', 'Writing' , 'Current GPA', '18-19 Overall ELPAC'\n",
    "prediction = svc.predict([[5,5,5,5,5,5,4,4]])\n",
    "prediction"
   ]
  },
  {
   "cell_type": "code",
   "execution_count": 99,
   "metadata": {},
   "outputs": [
    {
     "name": "stdout",
     "output_type": "stream",
     "text": [
      "              precision    recall  f1-score   support\n",
      "\n",
      "           0       0.94      0.99      0.96        73\n",
      "           1       0.94      0.75      0.83        20\n",
      "\n",
      "    accuracy                           0.94        93\n",
      "   macro avg       0.94      0.87      0.90        93\n",
      "weighted avg       0.94      0.94      0.93        93\n",
      "\n"
     ]
    }
   ],
   "source": [
    "print(classification_report(ytest, ypred))"
   ]
  },
  {
   "cell_type": "code",
   "execution_count": 100,
   "metadata": {},
   "outputs": [],
   "source": [
    "#work on decision trees, naives bayes, etc in the morning"
   ]
  },
  {
   "cell_type": "code",
   "execution_count": 101,
   "metadata": {},
   "outputs": [],
   "source": [
    "#dec trees\n",
    "dec_tree_model = tree.DecisionTreeClassifier()\n",
    "dec_tree_model = dec_tree_model.fit(xtrain, ytrain)"
   ]
  },
  {
   "cell_type": "code",
   "execution_count": 102,
   "metadata": {},
   "outputs": [
    {
     "name": "stdout",
     "output_type": "stream",
     "text": [
      "Score: 0.996415770609319\n"
     ]
    },
    {
     "data": {
      "text/plain": [
       "array([1, 0, 0, 1, 0, 1, 0, 0, 0, 0, 0, 0, 0, 0, 0, 0, 0, 0, 0, 0, 0, 0,\n",
       "       0, 1, 1, 0, 0, 0, 0, 0, 0, 0, 0, 1, 0, 0, 0, 0, 0, 0, 0, 0, 0, 0,\n",
       "       0, 0, 0, 0, 0, 0, 1, 0, 0, 1, 0, 0, 0, 0, 0, 0, 0, 1, 1, 0, 0, 1,\n",
       "       0, 1, 0, 0, 1, 0, 0, 0, 0, 1, 0, 0, 0, 0, 0, 0, 0, 0, 0, 0, 0, 1,\n",
       "       0, 0, 1, 0, 1], dtype=int64)"
      ]
     },
     "execution_count": 102,
     "metadata": {},
     "output_type": "execute_result"
    }
   ],
   "source": [
    "dec_tree_score = dec_tree_model.score(xtrain, ytrain)\n",
    "print('Score:', dec_tree_score)\n",
    "ypred_dectree = dec_tree_model.predict(xtest)\n",
    "ypred_dectree"
   ]
  },
  {
   "cell_type": "code",
   "execution_count": 103,
   "metadata": {},
   "outputs": [
    {
     "name": "stdout",
     "output_type": "stream",
     "text": [
      "Accuracy:  0.946236559139785\n"
     ]
    }
   ],
   "source": [
    "print(\"Accuracy: \", metrics.accuracy_score(ytest, ypred_dectree))"
   ]
  },
  {
   "cell_type": "code",
   "execution_count": 104,
   "metadata": {},
   "outputs": [
    {
     "name": "stdout",
     "output_type": "stream",
     "text": [
      "              precision    recall  f1-score   support\n",
      "\n",
      "           0       0.95      0.99      0.97        73\n",
      "           1       0.94      0.80      0.86        20\n",
      "\n",
      "    accuracy                           0.95        93\n",
      "   macro avg       0.94      0.89      0.92        93\n",
      "weighted avg       0.95      0.95      0.94        93\n",
      "\n"
     ]
    }
   ],
   "source": [
    "print(classification_report(ytest, ypred_dectree))"
   ]
  },
  {
   "cell_type": "code",
   "execution_count": 105,
   "metadata": {},
   "outputs": [
    {
     "name": "stdout",
     "output_type": "stream",
     "text": [
      "|--- feature_7 <= 3.50\n",
      "|   |--- class: 0\n",
      "|--- feature_7 >  3.50\n",
      "|   |--- feature_1 <= 2.01\n",
      "|   |   |--- feature_6 <= 0.89\n",
      "|   |   |   |--- feature_6 <= 0.34\n",
      "|   |   |   |   |--- class: 0\n",
      "|   |   |   |--- feature_6 >  0.34\n",
      "|   |   |   |   |--- class: 1\n",
      "|   |   |--- feature_6 >  0.89\n",
      "|   |   |   |--- class: 0\n",
      "|   |--- feature_1 >  2.01\n",
      "|   |   |--- feature_6 <= 3.54\n",
      "|   |   |   |--- feature_1 <= 3.16\n",
      "|   |   |   |   |--- feature_1 <= 2.93\n",
      "|   |   |   |   |   |--- class: 1\n",
      "|   |   |   |   |--- feature_1 >  2.93\n",
      "|   |   |   |   |   |--- feature_6 <= 2.25\n",
      "|   |   |   |   |   |   |--- feature_6 <= 0.72\n",
      "|   |   |   |   |   |   |   |--- feature_6 <= 0.69\n",
      "|   |   |   |   |   |   |   |   |--- class: 0\n",
      "|   |   |   |   |   |   |   |--- feature_6 >  0.69\n",
      "|   |   |   |   |   |   |   |   |--- class: 1\n",
      "|   |   |   |   |   |   |--- feature_6 >  0.72\n",
      "|   |   |   |   |   |   |   |--- class: 0\n",
      "|   |   |   |   |   |--- feature_6 >  2.25\n",
      "|   |   |   |   |   |   |--- feature_6 <= 3.13\n",
      "|   |   |   |   |   |   |   |--- class: 1\n",
      "|   |   |   |   |   |   |--- feature_6 >  3.13\n",
      "|   |   |   |   |   |   |   |--- class: 0\n",
      "|   |   |   |--- feature_1 >  3.16\n",
      "|   |   |   |   |--- feature_5 <= 2.06\n",
      "|   |   |   |   |   |--- feature_6 <= 2.24\n",
      "|   |   |   |   |   |   |--- class: 1\n",
      "|   |   |   |   |   |--- feature_6 >  2.24\n",
      "|   |   |   |   |   |   |--- feature_6 <= 2.70\n",
      "|   |   |   |   |   |   |   |--- class: 0\n",
      "|   |   |   |   |   |   |--- feature_6 >  2.70\n",
      "|   |   |   |   |   |   |   |--- feature_3 <= 2.50\n",
      "|   |   |   |   |   |   |   |   |--- class: 0\n",
      "|   |   |   |   |   |   |   |--- feature_3 >  2.50\n",
      "|   |   |   |   |   |   |   |   |--- class: 0\n",
      "|   |   |   |   |--- feature_5 >  2.06\n",
      "|   |   |   |   |   |--- class: 1\n",
      "|   |   |--- feature_6 >  3.54\n",
      "|   |   |   |--- feature_1 <= 3.98\n",
      "|   |   |   |   |--- class: 1\n",
      "|   |   |   |--- feature_1 >  3.98\n",
      "|   |   |   |   |--- feature_6 <= 3.91\n",
      "|   |   |   |   |   |--- class: 1\n",
      "|   |   |   |   |--- feature_6 >  3.91\n",
      "|   |   |   |   |   |--- class: 0\n",
      "\n"
     ]
    }
   ],
   "source": [
    "text_representation = tree.export_text(dec_tree_model)\n",
    "print(text_representation)"
   ]
  },
  {
   "cell_type": "code",
   "execution_count": 106,
   "metadata": {},
   "outputs": [
    {
     "data": {
      "text/plain": [
       "array([[0.        , 0.        , 0.        , ..., 0.        , 1.67      ,\n",
       "        0.        ],\n",
       "       [0.        , 0.        , 0.        , ..., 0.        , 4.        ,\n",
       "        0.        ],\n",
       "       [0.        , 0.        , 0.        , ..., 0.        , 2.5       ,\n",
       "        0.        ],\n",
       "       ...,\n",
       "       [4.        , 3.31174449, 2.        , ..., 2.        , 3.68825551,\n",
       "        4.        ],\n",
       "       [4.        , 2.56121618, 3.        , ..., 2.56121618, 3.68683649,\n",
       "        4.        ],\n",
       "       [4.        , 3.        , 2.63266878, ..., 2.63266878, 3.81019937,\n",
       "        4.        ]])"
      ]
     },
     "execution_count": 106,
     "metadata": {},
     "output_type": "execute_result"
    }
   ],
   "source": [
    "x"
   ]
  },
  {
   "cell_type": "code",
   "execution_count": 107,
   "metadata": {},
   "outputs": [],
   "source": [
    "#try majority vote/ensemble of many"
   ]
  },
  {
   "cell_type": "code",
   "execution_count": 112,
   "metadata": {},
   "outputs": [],
   "source": [
    "from sklearn.ensemble import VotingClassifier\n",
    "from sklearn.naive_bayes import GaussianNB\n",
    "from sklearn.ensemble import RandomForestClassifier\n",
    "from sklearn.ensemble import AdaBoostClassifier"
   ]
  },
  {
   "cell_type": "code",
   "execution_count": 113,
   "metadata": {},
   "outputs": [],
   "source": [
    "e_svc = svm.SVC(kernel='linear')\n",
    "e_dectree = tree.DecisionTreeClassifier()\n",
    "e_NB = GaussianNB()\n",
    "e_rf = RandomForestClassifier()\n",
    "e_ada = AdaBoostClassifier()\n",
    "\n",
    "ensemble = VotingClassifier(estimators=[('svc', e_svc), ('dectree', e_dectree), \n",
    "                                        ('NB', e_NB), ('RF', e_rf), ('Ada', e_ada)], voting='hard') #voting ='soft' will use probabilities (might use later?)"
   ]
  },
  {
   "cell_type": "code",
   "execution_count": 114,
   "metadata": {},
   "outputs": [
    {
     "data": {
      "text/plain": [
       "VotingClassifier(estimators=[('svc', SVC(kernel='linear')),\n",
       "                             ('dectree', DecisionTreeClassifier()),\n",
       "                             ('NB', GaussianNB()),\n",
       "                             ('RF', RandomForestClassifier()),\n",
       "                             ('Ada', AdaBoostClassifier())])"
      ]
     },
     "execution_count": 114,
     "metadata": {},
     "output_type": "execute_result"
    }
   ],
   "source": [
    "ensemble.fit(xtrain, ytrain)"
   ]
  },
  {
   "cell_type": "code",
   "execution_count": 115,
   "metadata": {},
   "outputs": [
    {
     "name": "stdout",
     "output_type": "stream",
     "text": [
      "SVC 0.9354838709677419\n",
      "DecisionTreeClassifier 0.946236559139785\n",
      "GaussianNB 0.946236559139785\n",
      "RandomForestClassifier 0.967741935483871\n",
      "AdaBoostClassifier 0.967741935483871\n",
      "VotingClassifier 0.978494623655914\n"
     ]
    }
   ],
   "source": [
    "for model in (e_svc, e_dectree, e_NB, e_rf, e_ada, ensemble):\n",
    "    model.fit(xtrain, ytrain)\n",
    "    y_predictions = model.predict(xtest)\n",
    "    print(model.__class__.__name__, metrics.accuracy_score(ytest, y_predictions))"
   ]
  },
  {
   "cell_type": "code",
   "execution_count": 116,
   "metadata": {},
   "outputs": [],
   "source": [
    "from sklearn.model_selection import cross_val_score\n",
    "\n",
    "alist = []\n",
    "alist.append(cross_val_score(e_svc, x, y, scoring='accuracy', cv=5).mean())\n",
    "alist.append(cross_val_score(e_dectree, x, y, scoring='accuracy', cv=5).mean())\n",
    "alist.append(cross_val_score(e_NB, x, y, scoring='accuracy', cv=5).mean())\n",
    "alist.append(cross_val_score(e_rf, x, y, scoring='accuracy', cv=5).mean())\n",
    "alist.append(cross_val_score(e_ada, x, y, scoring='accuracy', cv=5).mean())"
   ]
  },
  {
   "cell_type": "code",
   "execution_count": 117,
   "metadata": {},
   "outputs": [
    {
     "name": "stdout",
     "output_type": "stream",
     "text": [
      "[0.93542342 0.9381982  0.92731532 0.96241441 0.94900901]\n"
     ]
    }
   ],
   "source": [
    "print(np.array(alist))"
   ]
  },
  {
   "cell_type": "code",
   "execution_count": 54,
   "metadata": {},
   "outputs": [],
   "source": [
    "from sklearn.ensemble import RandomForestClassifier\n",
    "from sklearn.ensemble import AdaBoostClassifier"
   ]
  },
  {
   "cell_type": "code",
   "execution_count": 55,
   "metadata": {},
   "outputs": [],
   "source": [
    "ada = AdaBoostClassifier()\n",
    "ada = ada.fit(xtrain, ytrain)"
   ]
  },
  {
   "cell_type": "code",
   "execution_count": 56,
   "metadata": {},
   "outputs": [
    {
     "name": "stdout",
     "output_type": "stream",
     "text": [
      "Score: 0.996415770609319\n"
     ]
    },
    {
     "data": {
      "text/plain": [
       "array([0, 0, 0, 0, 1, 0, 1, 0, 0, 0, 0, 0, 0, 1, 0, 1, 0, 0, 0, 1, 0, 0,\n",
       "       0, 0, 0, 0, 0, 1, 0, 0, 0, 0, 0, 0, 1, 0, 0, 0, 0, 0, 1, 0, 0, 0,\n",
       "       0, 0, 0, 0, 0, 0, 1, 0, 0, 0, 0, 0, 0, 0, 0, 0, 1, 0, 0, 0, 0, 0,\n",
       "       0, 0, 0, 0, 1, 0, 1, 0, 0, 0, 1, 1, 0, 0, 0, 0, 0, 0, 0, 0, 1, 0,\n",
       "       1, 0, 0, 0, 0], dtype=int64)"
      ]
     },
     "execution_count": 56,
     "metadata": {},
     "output_type": "execute_result"
    }
   ],
   "source": [
    "ada_score = ada.score(xtrain, ytrain)\n",
    "print('Score:', ada_score)\n",
    "ypred_ada = ada.predict(xtest)\n",
    "ypred_ada"
   ]
  },
  {
   "cell_type": "code",
   "execution_count": 58,
   "metadata": {},
   "outputs": [],
   "source": [
    "from sklearn.ensemble import RandomForestClassifier"
   ]
  },
  {
   "cell_type": "code",
   "execution_count": 59,
   "metadata": {},
   "outputs": [],
   "source": [
    "rf = RandomForestClassifier()\n",
    "rf = rf.fit(xtrain, ytrain)"
   ]
  },
  {
   "cell_type": "code",
   "execution_count": 60,
   "metadata": {},
   "outputs": [
    {
     "name": "stdout",
     "output_type": "stream",
     "text": [
      "Score: 1.0\n"
     ]
    },
    {
     "data": {
      "text/plain": [
       "array([0, 0, 0, 0, 0, 0, 1, 0, 0, 0, 0, 0, 0, 1, 0, 1, 0, 0, 0, 1, 0, 0,\n",
       "       0, 0, 0, 0, 0, 1, 0, 0, 0, 0, 0, 0, 1, 0, 0, 0, 1, 0, 1, 0, 0, 0,\n",
       "       0, 0, 0, 0, 0, 0, 1, 0, 0, 0, 0, 0, 0, 1, 0, 0, 1, 0, 0, 0, 0, 0,\n",
       "       0, 0, 0, 0, 1, 0, 1, 0, 0, 0, 1, 1, 0, 0, 0, 0, 0, 0, 0, 0, 1, 0,\n",
       "       1, 0, 0, 0, 0], dtype=int64)"
      ]
     },
     "execution_count": 60,
     "metadata": {},
     "output_type": "execute_result"
    }
   ],
   "source": [
    "rf_score = rf.score(xtrain, ytrain)\n",
    "print('Score:', rf_score)\n",
    "ypred_rf = rf.predict(xtest)\n",
    "ypred_rf"
   ]
  },
  {
   "cell_type": "code",
   "execution_count": null,
   "metadata": {},
   "outputs": [],
   "source": []
  }
 ],
 "metadata": {
  "interpreter": {
   "hash": "948d0881d054978e3a7b504d13b39c051c9f9e69f0cf604d08462f6eebeaf8eb"
  },
  "kernelspec": {
   "display_name": "Python 3.9.2 64-bit",
   "name": "python3"
  },
  "language_info": {
   "codemirror_mode": {
    "name": "ipython",
    "version": 3
   },
   "file_extension": ".py",
   "mimetype": "text/x-python",
   "name": "python",
   "nbconvert_exporter": "python",
   "pygments_lexer": "ipython3",
   "version": "3.9.2"
  },
  "orig_nbformat": 4
 },
 "nbformat": 4,
 "nbformat_minor": 2
}
