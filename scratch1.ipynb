{
 "cells": [
  {
   "cell_type": "code",
   "execution_count": 29,
   "metadata": {},
   "outputs": [],
   "source": [
    "import pandas as pd\n",
    "import numpy as np\n",
    "import os\n",
    "import xlrd\n",
    "import openpyxl\n",
    "import matplotlib.pyplot as plt\n",
    "from sklearn import svm\n",
    "from sklearn.model_selection import train_test_split\n",
    "from sklearn.metrics import confusion_matrix, classification_report"
   ]
  },
  {
   "cell_type": "code",
   "execution_count": 30,
   "metadata": {},
   "outputs": [
    {
     "data": {
      "text/plain": [
       "'c:\\\\Users\\\\huyho\\\\OneDrive\\\\Desktop\\\\student-c'"
      ]
     },
     "execution_count": 30,
     "metadata": {},
     "output_type": "execute_result"
    }
   ],
   "source": [
    "current_dir = os.getcwd()\n",
    "current_dir"
   ]
  },
  {
   "cell_type": "code",
   "execution_count": 31,
   "metadata": {},
   "outputs": [],
   "source": [
    "os.getcwd()\n",
    "path = 'c:\\\\Users\\\\huyho\\\\OneDrive\\\\Desktop\\\\student-c\\\\RFEP Worksheet Fall20-21 Sample.xlsx'"
   ]
  },
  {
   "cell_type": "code",
   "execution_count": 32,
   "metadata": {},
   "outputs": [
    {
     "data": {
      "text/html": [
       "<div>\n",
       "<style scoped>\n",
       "    .dataframe tbody tr th:only-of-type {\n",
       "        vertical-align: middle;\n",
       "    }\n",
       "\n",
       "    .dataframe tbody tr th {\n",
       "        vertical-align: top;\n",
       "    }\n",
       "\n",
       "    .dataframe thead th {\n",
       "        text-align: right;\n",
       "    }\n",
       "</style>\n",
       "<table border=\"1\" class=\"dataframe\">\n",
       "  <thead>\n",
       "    <tr style=\"text-align: right;\">\n",
       "      <th></th>\n",
       "      <th>Student ID</th>\n",
       "      <th>Last Name</th>\n",
       "      <th>First Name</th>\n",
       "      <th>Middle Name</th>\n",
       "      <th>Current Grade Level</th>\n",
       "      <th>Internal Student ID</th>\n",
       "      <th>Date Entered</th>\n",
       "      <th>Oral Comprehension (Listening)</th>\n",
       "      <th>Oral communication skills</th>\n",
       "      <th>Reading comprehension</th>\n",
       "      <th>...</th>\n",
       "      <th>Participates in classroom discussions</th>\n",
       "      <th>Completes written assignments</th>\n",
       "      <th>Works independently</th>\n",
       "      <th>Asks for help when needed</th>\n",
       "      <th>Interventions/modifications utilized with student and impact?</th>\n",
       "      <th>What additional support does this student need?</th>\n",
       "      <th>How can these recommendations be accomplished?</th>\n",
       "      <th>Course Long Name</th>\n",
       "      <th>First Name.1</th>\n",
       "      <th>Last Name.1</th>\n",
       "    </tr>\n",
       "  </thead>\n",
       "  <tbody>\n",
       "    <tr>\n",
       "      <th>0</th>\n",
       "      <td>13593</td>\n",
       "      <td>LastName01</td>\n",
       "      <td>FirstName01</td>\n",
       "      <td>Mddle01</td>\n",
       "      <td>11</td>\n",
       "      <td>5524</td>\n",
       "      <td>06-09-2021</td>\n",
       "      <td>5.0</td>\n",
       "      <td>5.0</td>\n",
       "      <td>3.0</td>\n",
       "      <td>...</td>\n",
       "      <td>3.0</td>\n",
       "      <td>3.0</td>\n",
       "      <td>3.0</td>\n",
       "      <td>4.0</td>\n",
       "      <td>Directions and expectations orally repeated.</td>\n",
       "      <td>NaN</td>\n",
       "      <td>NaN</td>\n",
       "      <td>English III</td>\n",
       "      <td>TeacherFirst</td>\n",
       "      <td>TeacherLast</td>\n",
       "    </tr>\n",
       "    <tr>\n",
       "      <th>1</th>\n",
       "      <td>12247</td>\n",
       "      <td>LastName02</td>\n",
       "      <td>FirstName02</td>\n",
       "      <td>Mddle02</td>\n",
       "      <td>11</td>\n",
       "      <td>1964</td>\n",
       "      <td>06-09-2021</td>\n",
       "      <td>3.0</td>\n",
       "      <td>4.0</td>\n",
       "      <td>3.0</td>\n",
       "      <td>...</td>\n",
       "      <td>2.0</td>\n",
       "      <td>2.0</td>\n",
       "      <td>3.0</td>\n",
       "      <td>3.0</td>\n",
       "      <td>NaN</td>\n",
       "      <td>NaN</td>\n",
       "      <td>NaN</td>\n",
       "      <td>English III</td>\n",
       "      <td>TeacherFirst</td>\n",
       "      <td>TeacherLast</td>\n",
       "    </tr>\n",
       "    <tr>\n",
       "      <th>2</th>\n",
       "      <td>92181</td>\n",
       "      <td>LastName03</td>\n",
       "      <td>FirstName03</td>\n",
       "      <td>Mddle03</td>\n",
       "      <td>11</td>\n",
       "      <td>4458</td>\n",
       "      <td>06-09-2021</td>\n",
       "      <td>5.0</td>\n",
       "      <td>5.0</td>\n",
       "      <td>3.0</td>\n",
       "      <td>...</td>\n",
       "      <td>3.0</td>\n",
       "      <td>3.0</td>\n",
       "      <td>3.0</td>\n",
       "      <td>3.0</td>\n",
       "      <td>Responds well to feedback and opportunities fo...</td>\n",
       "      <td>NaN</td>\n",
       "      <td>NaN</td>\n",
       "      <td>English III</td>\n",
       "      <td>TeacherFirst</td>\n",
       "      <td>TeacherLast</td>\n",
       "    </tr>\n",
       "    <tr>\n",
       "      <th>3</th>\n",
       "      <td>90277</td>\n",
       "      <td>LastName04</td>\n",
       "      <td>FirstName04</td>\n",
       "      <td>Mddle04</td>\n",
       "      <td>11</td>\n",
       "      <td>3461</td>\n",
       "      <td>06-09-2021</td>\n",
       "      <td>3.0</td>\n",
       "      <td>3.0</td>\n",
       "      <td>2.0</td>\n",
       "      <td>...</td>\n",
       "      <td>2.0</td>\n",
       "      <td>2.0</td>\n",
       "      <td>2.0</td>\n",
       "      <td>3.0</td>\n",
       "      <td>NaN</td>\n",
       "      <td>NaN</td>\n",
       "      <td>NaN</td>\n",
       "      <td>English III</td>\n",
       "      <td>TeacherFirst</td>\n",
       "      <td>TeacherLast</td>\n",
       "    </tr>\n",
       "    <tr>\n",
       "      <th>4</th>\n",
       "      <td>90298</td>\n",
       "      <td>LastName05</td>\n",
       "      <td>FirstName05</td>\n",
       "      <td>Mddle05</td>\n",
       "      <td>11</td>\n",
       "      <td>3485</td>\n",
       "      <td>06-09-2021</td>\n",
       "      <td>3.0</td>\n",
       "      <td>3.0</td>\n",
       "      <td>2.0</td>\n",
       "      <td>...</td>\n",
       "      <td>3.0</td>\n",
       "      <td>2.0</td>\n",
       "      <td>2.0</td>\n",
       "      <td>4.0</td>\n",
       "      <td>NaN</td>\n",
       "      <td>NaN</td>\n",
       "      <td>NaN</td>\n",
       "      <td>English III</td>\n",
       "      <td>TeacherFirst</td>\n",
       "      <td>TeacherLast</td>\n",
       "    </tr>\n",
       "  </tbody>\n",
       "</table>\n",
       "<p>5 rows × 22 columns</p>\n",
       "</div>"
      ],
      "text/plain": [
       "   Student ID   Last Name   First Name Middle Name  Current Grade Level  \\\n",
       "0       13593  LastName01  FirstName01     Mddle01                   11   \n",
       "1       12247  LastName02  FirstName02     Mddle02                   11   \n",
       "2       92181  LastName03  FirstName03     Mddle03                   11   \n",
       "3       90277  LastName04  FirstName04     Mddle04                   11   \n",
       "4       90298  LastName05  FirstName05     Mddle05                   11   \n",
       "\n",
       "   Internal Student ID Date Entered  Oral Comprehension (Listening)  \\\n",
       "0                 5524   06-09-2021                             5.0   \n",
       "1                 1964   06-09-2021                             3.0   \n",
       "2                 4458   06-09-2021                             5.0   \n",
       "3                 3461   06-09-2021                             3.0   \n",
       "4                 3485   06-09-2021                             3.0   \n",
       "\n",
       "   Oral communication skills  Reading comprehension  ...  \\\n",
       "0                        5.0                    3.0  ...   \n",
       "1                        4.0                    3.0  ...   \n",
       "2                        5.0                    3.0  ...   \n",
       "3                        3.0                    2.0  ...   \n",
       "4                        3.0                    2.0  ...   \n",
       "\n",
       "   Participates in classroom discussions  Completes written assignments  \\\n",
       "0                                    3.0                            3.0   \n",
       "1                                    2.0                            2.0   \n",
       "2                                    3.0                            3.0   \n",
       "3                                    2.0                            2.0   \n",
       "4                                    3.0                            2.0   \n",
       "\n",
       "   Works independently  Asks for help when needed  \\\n",
       "0                  3.0                        4.0   \n",
       "1                  3.0                        3.0   \n",
       "2                  3.0                        3.0   \n",
       "3                  2.0                        3.0   \n",
       "4                  2.0                        4.0   \n",
       "\n",
       "   Interventions/modifications utilized with student and impact?  \\\n",
       "0       Directions and expectations orally repeated.               \n",
       "1                                                NaN               \n",
       "2  Responds well to feedback and opportunities fo...               \n",
       "3                                                NaN               \n",
       "4                                                NaN               \n",
       "\n",
       "   What additional support does this student need?  \\\n",
       "0                                              NaN   \n",
       "1                                              NaN   \n",
       "2                                              NaN   \n",
       "3                                              NaN   \n",
       "4                                              NaN   \n",
       "\n",
       "  How can these recommendations be accomplished? Course Long Name  \\\n",
       "0                                            NaN      English III   \n",
       "1                                            NaN      English III   \n",
       "2                                            NaN      English III   \n",
       "3                                            NaN      English III   \n",
       "4                                            NaN      English III   \n",
       "\n",
       "   First Name.1  Last Name.1  \n",
       "0  TeacherFirst  TeacherLast  \n",
       "1  TeacherFirst  TeacherLast  \n",
       "2  TeacherFirst  TeacherLast  \n",
       "3  TeacherFirst  TeacherLast  \n",
       "4  TeacherFirst  TeacherLast  \n",
       "\n",
       "[5 rows x 22 columns]"
      ]
     },
     "execution_count": 32,
     "metadata": {},
     "output_type": "execute_result"
    }
   ],
   "source": [
    "el_monitoring_df = pd.read_csv('elmonitoring.csv')\n",
    "el_monitoring_df.head()"
   ]
  },
  {
   "cell_type": "code",
   "execution_count": 33,
   "metadata": {},
   "outputs": [
    {
     "data": {
      "text/html": [
       "<div>\n",
       "<style scoped>\n",
       "    .dataframe tbody tr th:only-of-type {\n",
       "        vertical-align: middle;\n",
       "    }\n",
       "\n",
       "    .dataframe tbody tr th {\n",
       "        vertical-align: top;\n",
       "    }\n",
       "\n",
       "    .dataframe thead th {\n",
       "        text-align: right;\n",
       "    }\n",
       "</style>\n",
       "<table border=\"1\" class=\"dataframe\">\n",
       "  <thead>\n",
       "    <tr style=\"text-align: right;\">\n",
       "      <th></th>\n",
       "      <th>School Abbr</th>\n",
       "      <th>School Name</th>\n",
       "      <th>SN</th>\n",
       "      <th>SSID</th>\n",
       "      <th>Name</th>\n",
       "      <th>DOB</th>\n",
       "      <th>Grade</th>\n",
       "      <th>PriLangCode</th>\n",
       "      <th>PriLanguage</th>\n",
       "      <th>NDL</th>\n",
       "      <th>...</th>\n",
       "      <th>RFEP Eligible via ICA</th>\n",
       "      <th>RFEP Eligible if ICA?</th>\n",
       "      <th>WPA Date</th>\n",
       "      <th>WPAPerformanceLvl</th>\n",
       "      <th>RFEP Eligible via WPA</th>\n",
       "      <th>First Term Eng Grade</th>\n",
       "      <th>First Term Eng Class</th>\n",
       "      <th>First Term Store Code</th>\n",
       "      <th>Current GPA</th>\n",
       "      <th>RFEP Overall Eligible</th>\n",
       "    </tr>\n",
       "  </thead>\n",
       "  <tbody>\n",
       "    <tr>\n",
       "      <th>0</th>\n",
       "      <td>DCP ECMS</td>\n",
       "      <td>Downtown College Prep Middle School</td>\n",
       "      <td>13371</td>\n",
       "      <td>2257212284</td>\n",
       "      <td>Last, First 1</td>\n",
       "      <td>2009-08-05</td>\n",
       "      <td>6</td>\n",
       "      <td>60</td>\n",
       "      <td>Somali</td>\n",
       "      <td>NaN</td>\n",
       "      <td>...</td>\n",
       "      <td>No</td>\n",
       "      <td>No</td>\n",
       "      <td>NaT</td>\n",
       "      <td>NaN</td>\n",
       "      <td>No</td>\n",
       "      <td>B</td>\n",
       "      <td>Humanities 6</td>\n",
       "      <td>Q1</td>\n",
       "      <td>2.67</td>\n",
       "      <td>No</td>\n",
       "    </tr>\n",
       "    <tr>\n",
       "      <th>1</th>\n",
       "      <td>DCP ECMS</td>\n",
       "      <td>Downtown College Prep Middle School</td>\n",
       "      <td>14032</td>\n",
       "      <td>3058046796</td>\n",
       "      <td>Last, First 2</td>\n",
       "      <td>2007-01-06</td>\n",
       "      <td>8</td>\n",
       "      <td>1</td>\n",
       "      <td>Spanish</td>\n",
       "      <td>NaN</td>\n",
       "      <td>...</td>\n",
       "      <td>No</td>\n",
       "      <td>No</td>\n",
       "      <td>NaT</td>\n",
       "      <td>NaN</td>\n",
       "      <td>No</td>\n",
       "      <td>A+</td>\n",
       "      <td>Humanities 8</td>\n",
       "      <td>Q1</td>\n",
       "      <td>4.00</td>\n",
       "      <td>No</td>\n",
       "    </tr>\n",
       "    <tr>\n",
       "      <th>2</th>\n",
       "      <td>DCP EPHS</td>\n",
       "      <td>Downtown College Prep</td>\n",
       "      <td>12289</td>\n",
       "      <td>7503957990</td>\n",
       "      <td>Last, First 3</td>\n",
       "      <td>2005-03-11</td>\n",
       "      <td>10</td>\n",
       "      <td>1</td>\n",
       "      <td>Spanish</td>\n",
       "      <td>NaN</td>\n",
       "      <td>...</td>\n",
       "      <td>No</td>\n",
       "      <td>No</td>\n",
       "      <td>NaT</td>\n",
       "      <td>NaN</td>\n",
       "      <td>No</td>\n",
       "      <td>F</td>\n",
       "      <td>English II</td>\n",
       "      <td>P1</td>\n",
       "      <td>0.00</td>\n",
       "      <td>No</td>\n",
       "    </tr>\n",
       "    <tr>\n",
       "      <th>3</th>\n",
       "      <td>DCP ARHS</td>\n",
       "      <td>DCP Alum Rock High School</td>\n",
       "      <td>13289</td>\n",
       "      <td>2298814176</td>\n",
       "      <td>Last, First 4</td>\n",
       "      <td>2006-11-01</td>\n",
       "      <td>9</td>\n",
       "      <td>1</td>\n",
       "      <td>Spanish</td>\n",
       "      <td>NaN</td>\n",
       "      <td>...</td>\n",
       "      <td>No</td>\n",
       "      <td>No</td>\n",
       "      <td>2020-10-15</td>\n",
       "      <td>3.0</td>\n",
       "      <td>No</td>\n",
       "      <td>A</td>\n",
       "      <td>English I</td>\n",
       "      <td>Q1</td>\n",
       "      <td>3.40</td>\n",
       "      <td>No</td>\n",
       "    </tr>\n",
       "    <tr>\n",
       "      <th>4</th>\n",
       "      <td>DCP ECMS</td>\n",
       "      <td>Downtown College Prep Middle School</td>\n",
       "      <td>12980</td>\n",
       "      <td>1527690431</td>\n",
       "      <td>Last, First 5</td>\n",
       "      <td>2008-02-09</td>\n",
       "      <td>7</td>\n",
       "      <td>1</td>\n",
       "      <td>Spanish</td>\n",
       "      <td>NaN</td>\n",
       "      <td>...</td>\n",
       "      <td>No</td>\n",
       "      <td>No</td>\n",
       "      <td>NaT</td>\n",
       "      <td>NaN</td>\n",
       "      <td>No</td>\n",
       "      <td>A+</td>\n",
       "      <td>Humanities 7</td>\n",
       "      <td>Q1</td>\n",
       "      <td>3.33</td>\n",
       "      <td>No</td>\n",
       "    </tr>\n",
       "  </tbody>\n",
       "</table>\n",
       "<p>5 rows × 37 columns</p>\n",
       "</div>"
      ],
      "text/plain": [
       "  School Abbr                          School Name     SN        SSID  \\\n",
       "0    DCP ECMS  Downtown College Prep Middle School  13371  2257212284   \n",
       "1    DCP ECMS  Downtown College Prep Middle School  14032  3058046796   \n",
       "2    DCP EPHS                Downtown College Prep  12289  7503957990   \n",
       "3    DCP ARHS            DCP Alum Rock High School  13289  2298814176   \n",
       "4    DCP ECMS  Downtown College Prep Middle School  12980  1527690431   \n",
       "\n",
       "            Name        DOB  Grade  PriLangCode PriLanguage  NDL  ...  \\\n",
       "0  Last, First 1 2009-08-05      6           60      Somali  NaN  ...   \n",
       "1  Last, First 2 2007-01-06      8            1     Spanish  NaN  ...   \n",
       "2  Last, First 3 2005-03-11     10            1     Spanish  NaN  ...   \n",
       "3  Last, First 4 2006-11-01      9            1     Spanish  NaN  ...   \n",
       "4  Last, First 5 2008-02-09      7            1     Spanish  NaN  ...   \n",
       "\n",
       "   RFEP Eligible via ICA RFEP Eligible if ICA?   WPA Date  WPAPerformanceLvl  \\\n",
       "0                     No                    No        NaT                NaN   \n",
       "1                     No                    No        NaT                NaN   \n",
       "2                     No                    No        NaT                NaN   \n",
       "3                     No                    No 2020-10-15                3.0   \n",
       "4                     No                    No        NaT                NaN   \n",
       "\n",
       "   RFEP Eligible via WPA  First Term Eng Grade  First Term Eng Class  \\\n",
       "0                     No                     B          Humanities 6   \n",
       "1                     No                    A+          Humanities 8   \n",
       "2                     No                     F            English II   \n",
       "3                     No                     A             English I   \n",
       "4                     No                    A+          Humanities 7   \n",
       "\n",
       "   First Term Store Code  Current GPA RFEP Overall Eligible  \n",
       "0                     Q1         2.67                    No  \n",
       "1                     Q1         4.00                    No  \n",
       "2                     P1         0.00                    No  \n",
       "3                     Q1         3.40                    No  \n",
       "4                     Q1         3.33                    No  \n",
       "\n",
       "[5 rows x 37 columns]"
      ]
     },
     "execution_count": 33,
     "metadata": {},
     "output_type": "execute_result"
    }
   ],
   "source": [
    "xls = pd.ExcelFile(path)\n",
    "student_list_df = pd.read_excel(xls, sheet_name=1)\n",
    "wpa_data_df = pd.read_excel(xls, sheet_name=2)\n",
    "student_list_df.head()"
   ]
  },
  {
   "cell_type": "code",
   "execution_count": 34,
   "metadata": {},
   "outputs": [
    {
     "name": "stdout",
     "output_type": "stream",
     "text": [
      "# or rows:  641\n",
      "# of Eligible Students:  12\n",
      "proportions : 1.87207488299532\n"
     ]
    }
   ],
   "source": [
    "print('# or rows: ', len(student_list_df))\n",
    "print('# of Eligible Students: ', len(student_list_df[student_list_df['RFEP Overall Eligible'] == 'Yes']))\n",
    "print('proportions :', 12/641 * 100)"
   ]
  },
  {
   "cell_type": "code",
   "execution_count": 35,
   "metadata": {},
   "outputs": [
    {
     "data": {
      "text/plain": [
       "Index(['School Abbr', 'School Name', 'SN', 'SSID', 'Name', 'DOB', 'Grade',\n",
       "       'PriLangCode', 'PriLanguage', 'NDL', '18-19 Overall ELPAC',\n",
       "       '18-19 NWEA Date', 'Oral Level', 'Written Level', 'Listening',\n",
       "       'Speaking', 'Reading', 'Writing', '19-20 Overall ELPAC',\n",
       "       '20-21 Fall NWEA Date', '20-21 Fall NWEA RIT',\n",
       "       '20-21 Fall NWEA Eligible', 'RFEP Eligible via NWEA',\n",
       "       'RFEP Eligible if NWEA?', '20-21 ICA ELA Date',\n",
       "       '20-21 ICA ELA Scale Score', '20-21 ICA ELA Distance to Met',\n",
       "       'RFEP Eligible via ICA', 'RFEP Eligible if ICA?', 'WPA Date',\n",
       "       'WPAPerformanceLvl', 'RFEP Eligible via WPA', 'First Term Eng Grade',\n",
       "       'First Term Eng Class', 'First Term Store Code', 'Current GPA',\n",
       "       'RFEP Overall Eligible'],\n",
       "      dtype='object')"
      ]
     },
     "execution_count": 35,
     "metadata": {},
     "output_type": "execute_result"
    }
   ],
   "source": [
    "student_list_df.columns"
   ]
  },
  {
   "cell_type": "code",
   "execution_count": 36,
   "metadata": {},
   "outputs": [
    {
     "data": {
      "text/plain": [
       "0      No\n",
       "1      No\n",
       "2      No\n",
       "3      No\n",
       "4      No\n",
       "       ..\n",
       "636    No\n",
       "637    No\n",
       "638    No\n",
       "639    No\n",
       "640    No\n",
       "Name: RFEP Overall Eligible, Length: 641, dtype: object"
      ]
     },
     "execution_count": 36,
     "metadata": {},
     "output_type": "execute_result"
    }
   ],
   "source": [
    "student_list_df['RFEP Overall Eligible']"
   ]
  },
  {
   "cell_type": "code",
   "execution_count": 37,
   "metadata": {},
   "outputs": [],
   "source": [
    "#change rfep overall eligible from Yes -> 1 and No -> 0\n",
    "student_list_df['RFEP Overall Eligible'] = student_list_df['RFEP Overall Eligible'].replace({'Yes': 1, 'No': 0})\n",
    "        "
   ]
  },
  {
   "cell_type": "code",
   "execution_count": 38,
   "metadata": {},
   "outputs": [],
   "source": [
    "x = student_list_df[['Oral Level', 'Written Level', 'Listening', 'Speaking', 'Reading', 'Writing' , 'Current GPA']]\n",
    "y = student_list_df['RFEP Overall Eligible']"
   ]
  },
  {
   "cell_type": "code",
   "execution_count": 39,
   "metadata": {},
   "outputs": [],
   "source": [
    "x = x.fillna(0)"
   ]
  },
  {
   "cell_type": "code",
   "execution_count": 40,
   "metadata": {},
   "outputs": [],
   "source": [
    "x = x.values\n",
    "y = y.values"
   ]
  },
  {
   "cell_type": "code",
   "execution_count": 41,
   "metadata": {},
   "outputs": [
    {
     "data": {
      "text/plain": [
       "161"
      ]
     },
     "execution_count": 41,
     "metadata": {},
     "output_type": "execute_result"
    }
   ],
   "source": [
    "xtrain, xtest, ytrain, ytest = train_test_split(x, y, test_size=0.25)\n",
    "len(xtest)"
   ]
  },
  {
   "cell_type": "code",
   "execution_count": 42,
   "metadata": {},
   "outputs": [
    {
     "data": {
      "text/plain": [
       "SVC(kernel='linear')"
      ]
     },
     "execution_count": 42,
     "metadata": {},
     "output_type": "execute_result"
    }
   ],
   "source": [
    "svc = svm.SVC(kernel='linear')\n",
    "svc.fit(x , y)"
   ]
  },
  {
   "cell_type": "code",
   "execution_count": 43,
   "metadata": {},
   "outputs": [
    {
     "name": "stdout",
     "output_type": "stream",
     "text": [
      "Score: 0.9791666666666666\n"
     ]
    }
   ],
   "source": [
    "score = svc.score(xtrain, ytrain)\n",
    "print('Score:', score)"
   ]
  },
  {
   "cell_type": "code",
   "execution_count": 44,
   "metadata": {},
   "outputs": [],
   "source": [
    "ypred = svc.predict(xtest)"
   ]
  },
  {
   "cell_type": "code",
   "execution_count": 45,
   "metadata": {},
   "outputs": [
    {
     "data": {
      "text/plain": [
       "array([0, 0, 0, 0, 0, 0, 0, 0, 0, 0, 0, 0, 0, 0, 0, 0, 0, 0, 0, 0, 0, 0,\n",
       "       0, 0, 0, 0, 0, 0, 0, 0, 0, 0, 0, 0, 0, 0, 0, 0, 0, 0, 0, 0, 0, 0,\n",
       "       0, 0, 0, 0, 0, 0, 0, 0, 0, 0, 0, 0, 0, 0, 0, 0, 0, 0, 0, 0, 0, 0,\n",
       "       0, 0, 0, 0, 0, 0, 0, 0, 0, 0, 0, 0, 0, 0, 0, 0, 0, 0, 0, 0, 0, 0,\n",
       "       0, 0, 0, 0, 0, 0, 0, 0, 0, 0, 0, 0, 0, 0, 0, 0, 0, 0, 0, 0, 0, 0,\n",
       "       0, 0, 0, 0, 0, 0, 0, 0, 0, 0, 0, 0, 0, 0, 0, 0, 0, 0, 0, 0, 0, 0,\n",
       "       0, 0, 0, 0, 0, 0, 0, 0, 0, 0, 0, 0, 0, 0, 0, 0, 0, 0, 0, 0, 0, 0,\n",
       "       0, 0, 0, 0, 0, 0, 0], dtype=int64)"
      ]
     },
     "execution_count": 45,
     "metadata": {},
     "output_type": "execute_result"
    }
   ],
   "source": [
    "ypred"
   ]
  },
  {
   "cell_type": "code",
   "execution_count": 46,
   "metadata": {},
   "outputs": [
    {
     "name": "stdout",
     "output_type": "stream",
     "text": [
      "Accuracy:  0.9875776397515528\n"
     ]
    }
   ],
   "source": [
    "from sklearn import metrics\n",
    "\n",
    "print(\"Accuracy: \", metrics.accuracy_score(ytest, ypred))"
   ]
  },
  {
   "cell_type": "code",
   "execution_count": 47,
   "metadata": {},
   "outputs": [
    {
     "data": {
      "text/plain": [
       "array([[4.  , 2.  , 2.  , ..., 2.  , 2.  , 3.  ],\n",
       "       [0.  , 0.  , 0.  , ..., 0.  , 0.  , 4.  ],\n",
       "       [3.  , 1.  , 2.  , ..., 1.  , 2.  , 2.  ],\n",
       "       ...,\n",
       "       [4.  , 2.  , 2.  , ..., 2.  , 2.  , 3.25],\n",
       "       [3.  , 1.  , 2.  , ..., 1.  , 2.  , 0.75],\n",
       "       [3.  , 1.  , 2.  , ..., 1.  , 2.  , 3.67]])"
      ]
     },
     "execution_count": 47,
     "metadata": {},
     "output_type": "execute_result"
    }
   ],
   "source": [
    "xtrain"
   ]
  },
  {
   "cell_type": "code",
   "execution_count": 48,
   "metadata": {},
   "outputs": [
    {
     "data": {
      "text/plain": [
       "array([0], dtype=int64)"
      ]
     },
     "execution_count": 48,
     "metadata": {},
     "output_type": "execute_result"
    }
   ],
   "source": [
    "prediction = svc.predict([[4,4,4,4,4,4,4]])\n",
    "prediction "
   ]
  },
  {
   "cell_type": "code",
   "execution_count": 49,
   "metadata": {},
   "outputs": [
    {
     "data": {
      "text/plain": [
       "0    629\n",
       "1     12\n",
       "Name: RFEP Overall Eligible, dtype: int64"
      ]
     },
     "execution_count": 49,
     "metadata": {},
     "output_type": "execute_result"
    }
   ],
   "source": [
    "student_list_df['RFEP Overall Eligible'].value_counts()"
   ]
  },
  {
   "cell_type": "code",
   "execution_count": 50,
   "metadata": {},
   "outputs": [],
   "source": [
    "from sklearn.tree import DecisionTreeClassifier\n",
    "from sklearn import tree"
   ]
  },
  {
   "cell_type": "code",
   "execution_count": 51,
   "metadata": {},
   "outputs": [],
   "source": [
    "dectree = DecisionTreeClassifier()\n",
    "\n",
    "dectree = dectree.fit(xtrain, ytrain)"
   ]
  },
  {
   "cell_type": "code",
   "execution_count": 52,
   "metadata": {},
   "outputs": [],
   "source": [
    "y_pred_dectree = dectree.predict(xtest)"
   ]
  },
  {
   "cell_type": "code",
   "execution_count": 53,
   "metadata": {},
   "outputs": [
    {
     "name": "stdout",
     "output_type": "stream",
     "text": [
      "Accuracy: 0.9565217391304348\n"
     ]
    }
   ],
   "source": [
    "print(\"Accuracy:\", metrics.accuracy_score(ytest, y_pred_dectree))"
   ]
  },
  {
   "cell_type": "code",
   "execution_count": 54,
   "metadata": {},
   "outputs": [
    {
     "data": {
      "text/plain": [
       "[Text(158.10000000000002, 208.38, 'X[4] <= 2.5\\ngini = 0.041\\nsamples = 480\\nvalue = [470, 10]'),\n",
       " Text(74.4, 190.26, 'X[2] <= 2.5\\ngini = 0.017\\nsamples = 454\\nvalue = [450, 4]'),\n",
       " Text(55.800000000000004, 172.14, 'gini = 0.0\\nsamples = 417\\nvalue = [417, 0]'),\n",
       " Text(93.0, 172.14, 'X[6] <= 3.535\\ngini = 0.193\\nsamples = 37\\nvalue = [33, 4]'),\n",
       " Text(55.800000000000004, 154.01999999999998, 'X[6] <= 0.71\\ngini = 0.059\\nsamples = 33\\nvalue = [32, 1]'),\n",
       " Text(37.2, 135.89999999999998, 'X[6] <= 0.635\\ngini = 0.18\\nsamples = 10\\nvalue = [9, 1]'),\n",
       " Text(18.6, 117.77999999999999, 'gini = 0.0\\nsamples = 7\\nvalue = [7, 0]'),\n",
       " Text(55.800000000000004, 117.77999999999999, 'X[1] <= 1.5\\ngini = 0.444\\nsamples = 3\\nvalue = [2, 1]'),\n",
       " Text(37.2, 99.66, 'gini = 0.0\\nsamples = 1\\nvalue = [1, 0]'),\n",
       " Text(74.4, 99.66, 'gini = 0.5\\nsamples = 2\\nvalue = [1, 1]'),\n",
       " Text(74.4, 135.89999999999998, 'gini = 0.0\\nsamples = 23\\nvalue = [23, 0]'),\n",
       " Text(130.20000000000002, 154.01999999999998, 'X[4] <= 1.5\\ngini = 0.375\\nsamples = 4\\nvalue = [1, 3]'),\n",
       " Text(111.60000000000001, 135.89999999999998, 'gini = 0.0\\nsamples = 1\\nvalue = [1, 0]'),\n",
       " Text(148.8, 135.89999999999998, 'gini = 0.0\\nsamples = 3\\nvalue = [0, 3]'),\n",
       " Text(241.8, 190.26, 'X[5] <= 2.5\\ngini = 0.355\\nsamples = 26\\nvalue = [20, 6]'),\n",
       " Text(186.0, 172.14, 'X[0] <= 3.5\\ngini = 0.298\\nsamples = 22\\nvalue = [18, 4]'),\n",
       " Text(167.4, 154.01999999999998, 'gini = 0.0\\nsamples = 4\\nvalue = [4, 0]'),\n",
       " Text(204.60000000000002, 154.01999999999998, 'X[6] <= 0.685\\ngini = 0.346\\nsamples = 18\\nvalue = [14, 4]'),\n",
       " Text(186.0, 135.89999999999998, 'gini = 0.0\\nsamples = 2\\nvalue = [2, 0]'),\n",
       " Text(223.20000000000002, 135.89999999999998, 'X[6] <= 0.8\\ngini = 0.375\\nsamples = 16\\nvalue = [12, 4]'),\n",
       " Text(204.60000000000002, 117.77999999999999, 'gini = 0.0\\nsamples = 1\\nvalue = [0, 1]'),\n",
       " Text(241.8, 117.77999999999999, 'X[2] <= 2.5\\ngini = 0.32\\nsamples = 15\\nvalue = [12, 3]'),\n",
       " Text(223.20000000000002, 99.66, 'X[6] <= 1.425\\ngini = 0.397\\nsamples = 11\\nvalue = [8, 3]'),\n",
       " Text(204.60000000000002, 81.53999999999999, 'gini = 0.0\\nsamples = 2\\nvalue = [2, 0]'),\n",
       " Text(241.8, 81.53999999999999, 'X[6] <= 1.635\\ngini = 0.444\\nsamples = 9\\nvalue = [6, 3]'),\n",
       " Text(223.20000000000002, 63.41999999999999, 'gini = 0.0\\nsamples = 1\\nvalue = [0, 1]'),\n",
       " Text(260.40000000000003, 63.41999999999999, 'X[6] <= 2.7\\ngini = 0.375\\nsamples = 8\\nvalue = [6, 2]'),\n",
       " Text(241.8, 45.29999999999998, 'gini = 0.0\\nsamples = 3\\nvalue = [3, 0]'),\n",
       " Text(279.0, 45.29999999999998, 'X[1] <= 3.5\\ngini = 0.48\\nsamples = 5\\nvalue = [3, 2]'),\n",
       " Text(260.40000000000003, 27.17999999999998, 'gini = 0.0\\nsamples = 1\\nvalue = [0, 1]'),\n",
       " Text(297.6, 27.17999999999998, 'X[6] <= 3.25\\ngini = 0.375\\nsamples = 4\\nvalue = [3, 1]'),\n",
       " Text(279.0, 9.059999999999974, 'gini = 0.5\\nsamples = 2\\nvalue = [1, 1]'),\n",
       " Text(316.20000000000005, 9.059999999999974, 'gini = 0.0\\nsamples = 2\\nvalue = [2, 0]'),\n",
       " Text(260.40000000000003, 99.66, 'gini = 0.0\\nsamples = 4\\nvalue = [4, 0]'),\n",
       " Text(297.6, 172.14, 'X[2] <= 2.5\\ngini = 0.5\\nsamples = 4\\nvalue = [2, 2]'),\n",
       " Text(279.0, 154.01999999999998, 'X[6] <= 3.835\\ngini = 0.444\\nsamples = 3\\nvalue = [2, 1]'),\n",
       " Text(260.40000000000003, 135.89999999999998, 'gini = 0.0\\nsamples = 2\\nvalue = [2, 0]'),\n",
       " Text(297.6, 135.89999999999998, 'gini = 0.0\\nsamples = 1\\nvalue = [0, 1]'),\n",
       " Text(316.20000000000005, 154.01999999999998, 'gini = 0.0\\nsamples = 1\\nvalue = [0, 1]')]"
      ]
     },
     "execution_count": 54,
     "metadata": {},
     "output_type": "execute_result"
    },
    {
     "data": {
      "image/png": "[encoded data removed]",
      "text/plain": [
       "<Figure size 432x288 with 1 Axes>"
      ]
     },
     "metadata": {
      "needs_background": "light"
     },
     "output_type": "display_data"
    }
   ],
   "source": [
    "tree.plot_tree(dectree)"
   ]
  },
  {
   "cell_type": "code",
   "execution_count": 55,
   "metadata": {},
   "outputs": [],
   "source": [
    "import graphviz "
   ]
  },
  {
   "cell_type": "code",
   "execution_count": 56,
   "metadata": {},
   "outputs": [
    {
     "data": {
      "text/plain": [
       "\"da = tree.export_graphviz(dectree, out_file=None)\\ngraph = graphviz.Source(da)\\ngraph.render('c:\\\\Users\\\\huyho\\\\OneDrive\\\\Desktop\\\\student-c\\\\test')\""
      ]
     },
     "execution_count": 56,
     "metadata": {},
     "output_type": "execute_result"
    }
   ],
   "source": [
    "\"\"\"da = tree.export_graphviz(dectree, out_file=None)\n",
    "graph = graphviz.Source(da)\n",
    "graph.render('c:\\\\Users\\\\huyho\\\\OneDrive\\\\Desktop\\\\student-c\\\\test')\"\"\""
   ]
  },
  {
   "cell_type": "code",
   "execution_count": 57,
   "metadata": {},
   "outputs": [],
   "source": [
    "from imblearn.pipeline import Pipeline\n",
    "from imblearn.over_sampling import SMOTE\n",
    "from imblearn.under_sampling import RandomUnderSampler\n",
    "from sklearn.model_selection import RepeatedStratifiedKFold, cross_val_score\n",
    "from numpy import mean"
   ]
  },
  {
   "cell_type": "code",
   "execution_count": 58,
   "metadata": {},
   "outputs": [],
   "source": [
    "model = DecisionTreeClassifier()\n",
    "over = SMOTE(sampling_strategy=0.1) #oversample the minority class to 1:10 ratio\n",
    "under = RandomUnderSampler(sampling_strategy=0.5) #undersample the majority class to a 1:2 ratio\n",
    "steps = [('over', over), ('under', under), ('model', model)]\n",
    "pipeline = Pipeline(steps=steps)"
   ]
  },
  {
   "cell_type": "code",
   "execution_count": 59,
   "metadata": {},
   "outputs": [
    {
     "data": {
      "text/plain": [
       "Pipeline(steps=[('over', SMOTE(sampling_strategy=0.1)),\n",
       "                ('under', RandomUnderSampler(sampling_strategy=0.5)),\n",
       "                ('model', DecisionTreeClassifier())])"
      ]
     },
     "execution_count": 59,
     "metadata": {},
     "output_type": "execute_result"
    }
   ],
   "source": [
    "pipeline.fit(xtrain, ytrain)"
   ]
  },
  {
   "cell_type": "code",
   "execution_count": 60,
   "metadata": {},
   "outputs": [],
   "source": [
    "y_hat = pipeline.predict(xtest)"
   ]
  },
  {
   "cell_type": "code",
   "execution_count": 61,
   "metadata": {},
   "outputs": [
    {
     "name": "stdout",
     "output_type": "stream",
     "text": [
      "              precision    recall  f1-score   support\n",
      "\n",
      "           0       0.99      0.87      0.93       159\n",
      "           1       0.05      0.50      0.08         2\n",
      "\n",
      "    accuracy                           0.86       161\n",
      "   macro avg       0.52      0.68      0.50       161\n",
      "weighted avg       0.98      0.86      0.92       161\n",
      "\n"
     ]
    }
   ],
   "source": [
    "print(classification_report(ytest, y_hat))"
   ]
  },
  {
   "cell_type": "code",
   "execution_count": 62,
   "metadata": {},
   "outputs": [],
   "source": [
    "from collections import Counter"
   ]
  },
  {
   "cell_type": "code",
   "execution_count": 63,
   "metadata": {},
   "outputs": [
    {
     "data": {
      "text/plain": [
       "641"
      ]
     },
     "execution_count": 63,
     "metadata": {},
     "output_type": "execute_result"
    }
   ],
   "source": [
    "len(x)"
   ]
  },
  {
   "cell_type": "code",
   "execution_count": 64,
   "metadata": {},
   "outputs": [],
   "source": [
    "over = SMOTE(sampling_strategy=0.1) #oversample the minority class to 1:10 ratio\n",
    "under = RandomUnderSampler(sampling_strategy=0.3) #undersample the majority class to a 1:2 ratio\n",
    "steps = [('over', over), ('under', under)]\n",
    "pipeline = Pipeline(steps=steps)\n",
    "x, y = pipeline.fit_resample(x, y)"
   ]
  },
  {
   "cell_type": "code",
   "execution_count": 65,
   "metadata": {},
   "outputs": [
    {
     "name": "stdout",
     "output_type": "stream",
     "text": [
      "0 classes:  206\n",
      "1 classes:  62\n"
     ]
    }
   ],
   "source": [
    "counter0 = 0\n",
    "counter1 = 0\n",
    "for i in y:\n",
    "    if i == 0:\n",
    "        counter0 += 1\n",
    "    elif i == 1:\n",
    "        counter1 += 1\n",
    "print(\"0 classes: \", counter0)\n",
    "print(\"1 classes: \", counter1)\n",
    "    "
   ]
  },
  {
   "cell_type": "code",
   "execution_count": 68,
   "metadata": {},
   "outputs": [
    {
     "data": {
      "text/plain": [
       "array([[3.        , 4.        , 1.        , ..., 3.        , 3.        ,\n",
       "        1.        ],\n",
       "       [0.        , 0.        , 0.        , ..., 0.        , 0.        ,\n",
       "        0.8       ],\n",
       "       [3.        , 3.        , 2.        , ..., 2.        , 2.        ,\n",
       "        1.75      ],\n",
       "       ...,\n",
       "       [4.        , 3.        , 3.        , ..., 2.        , 2.        ,\n",
       "        3.90134651],\n",
       "       [4.        , 3.        , 2.47915797, ..., 2.52084203, 2.        ,\n",
       "        3.88021051],\n",
       "       [4.        , 3.        , 3.        , ..., 2.        , 2.10133021,\n",
       "        3.74493349]])"
      ]
     },
     "execution_count": 68,
     "metadata": {},
     "output_type": "execute_result"
    }
   ],
   "source": []
  },
  {
   "cell_type": "code",
   "execution_count": 69,
   "metadata": {},
   "outputs": [
    {
     "name": "stdout",
     "output_type": "stream",
     "text": [
      "Score: 0.93125\n"
     ]
    },
    {
     "data": {
      "text/plain": [
       "array([0, 0, 0, 1, 0, 0, 0, 1, 1, 0, 0, 0, 0, 1, 0, 0, 1, 0, 0, 0, 0, 0,\n",
       "       0, 0, 0, 0, 0, 0, 0, 0, 0, 1, 0, 0, 0, 0, 0, 0, 0, 0, 0, 0, 0, 0,\n",
       "       0, 0, 0, 0, 0, 0, 0, 0, 0, 0, 0, 0, 0, 0, 0, 0, 0, 0, 0, 1, 0, 0,\n",
       "       0, 0, 0, 1, 0, 1, 0, 0, 0, 0, 0, 0, 0, 0, 0, 0, 0, 0, 0, 0, 0, 0,\n",
       "       0, 0, 0, 0, 0, 0, 0, 0, 0, 0, 0, 0, 0, 0, 0, 0, 0, 0, 0, 0, 0, 0,\n",
       "       0, 1, 0, 1, 0, 1, 0, 0, 0, 0, 0, 0, 0, 0, 1, 0, 0, 0, 0, 0, 1, 0,\n",
       "       0, 0, 0, 0, 0, 0, 0, 0, 0, 1, 0, 0, 0, 0, 0, 0, 0, 1, 0, 0, 0, 1,\n",
       "       0, 0, 1, 0, 0, 0, 0], dtype=int64)"
      ]
     },
     "execution_count": 69,
     "metadata": {},
     "output_type": "execute_result"
    }
   ],
   "source": [
    "svc = svm.SVC(kernel='linear')\n",
    "svc.fit(x , y)\n",
    "score = svc.score(xtrain, ytrain)\n",
    "print('Score:', score)\n",
    "ypred = svc.predict(xtest)\n",
    "ypred"
   ]
  },
  {
   "cell_type": "code",
   "execution_count": 72,
   "metadata": {},
   "outputs": [
    {
     "name": "stdout",
     "output_type": "stream",
     "text": [
      "Accuracy:  0.8881987577639752\n"
     ]
    },
    {
     "data": {
      "text/plain": [
       "array([1], dtype=int64)"
      ]
     },
     "execution_count": 72,
     "metadata": {},
     "output_type": "execute_result"
    }
   ],
   "source": [
    "print(\"Accuracy: \", metrics.accuracy_score(ytest, ypred))\n",
    "prediction = svc.predict([[4,4,4,4,4,4,4]])\n",
    "prediction"
   ]
  },
  {
   "cell_type": "code",
   "execution_count": null,
   "metadata": {},
   "outputs": [],
   "source": []
  }
 ],
 "metadata": {
  "interpreter": {
   "hash": "948d0881d054978e3a7b504d13b39c051c9f9e69f0cf604d08462f6eebeaf8eb"
  },
  "kernelspec": {
   "display_name": "Python 3.9.2 64-bit",
   "name": "python3"
  },
  "language_info": {
   "codemirror_mode": {
    "name": "ipython",
    "version": 3
   },
   "file_extension": ".py",
   "mimetype": "text/x-python",
   "name": "python",
   "nbconvert_exporter": "python",
   "pygments_lexer": "ipython3",
   "version": "3.9.2"
  },
  "orig_nbformat": 4
 },
 "nbformat": 4,
 "nbformat_minor": 2
}
