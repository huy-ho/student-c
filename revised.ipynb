{
 "cells": [
  {
   "cell_type": "code",
   "execution_count": 10,
   "metadata": {},
   "outputs": [],
   "source": [
    "#pandas numpy\n",
    "import pandas as pd\n",
    "import numpy as np\n",
    "from numpy import mean\n",
    "\n",
    "#sklearn\n",
    "from sklearn import svm\n",
    "from sklearn.model_selection import train_test_split\n",
    "from sklearn.metrics import confusion_matrix, classification_report\n",
    "from sklearn import metrics\n",
    "from sklearn.tree import DecisionTreeClassifier\n",
    "from sklearn import tree\n",
    "from sklearn.preprocessing import StandardScaler\n",
    "from sklearn.model_selection import RepeatedStratifiedKFold, cross_val_score\n",
    "\n",
    "#imblearn for imbalanced data\n",
    "from imblearn.pipeline import Pipeline\n",
    "from imblearn.over_sampling import SMOTE\n",
    "from imblearn.under_sampling import RandomUnderSampler\n",
    "\n",
    "#matplotlib\n",
    "import matplotlib.pyplot as plt\n",
    "\n",
    "#counters\n",
    "from collections import Counter\n",
    "\n",
    "#others (os, graphwiz, excels)\n",
    "import graphviz \n",
    "import os\n",
    "import xlrd\n",
    "import openpyxl\n",
    "from sklearn.ensemble import VotingClassifier, AdaBoostClassifier, RandomForestClassifier\n",
    "from sklearn.naive_bayes import GaussianNB\n"
   ]
  },
  {
   "cell_type": "code",
   "execution_count": 11,
   "metadata": {},
   "outputs": [
    {
     "data": {
      "text/plain": [
       "VotingClassifier(estimators=[('svc', SVC(kernel='linear')),\n",
       "                             ('dectree', DecisionTreeClassifier()),\n",
       "                             ('NB', GaussianNB()),\n",
       "                             ('Ada', AdaBoostClassifier()),\n",
       "                             ('RF', RandomForestClassifier())])"
      ]
     },
     "execution_count": 11,
     "metadata": {},
     "output_type": "execute_result"
    }
   ],
   "source": [
    "global model\n",
    "global ensemble\n",
    "dir = 'c:\\\\Users\\\\huyho\\\\OneDrive\\\\Desktop\\\\stuff\\\\student-c'\n",
    "path = os.path.join(dir, \"RFEP Worksheet Fall20-21 Sample.xlsx\")\n",
    "\n",
    "xls = pd.ExcelFile(path)\n",
    "student_list_df = pd.read_excel(xls, sheet_name=1)\n",
    "wpa_data_df = pd.read_excel(xls, sheet_name=2)\n",
    "\n",
    "#x = features\n",
    "#y = target\n",
    "x = student_list_df[['Oral Level', 'Written Level', 'Listening', 'Speaking', 'Reading', 'Writing' , 'Current GPA', '18-19 Overall ELPAC']]\n",
    "y = student_list_df['RFEP Overall Eligible']\n",
    "x = x.fillna(0) #fill null values\n",
    "\n",
    "x = x.values\n",
    "y = y.values\n",
    "\n",
    "#Smote them due to imbalanced data\n",
    "over = SMOTE(sampling_strategy=0.1) #oversample the minority class to 1:10 ratio\n",
    "under = RandomUnderSampler(sampling_strategy=0.2) #undersample the majority class to a 1:2 ratio\n",
    "steps = [('over', over), ('under', under)]\n",
    "pipeline = Pipeline(steps=steps)\n",
    "x, y = pipeline.fit_resample(x, y)\n",
    "\n",
    "\n",
    "#split to training and testing\n",
    "xtrain, xtest, ytrain, ytest = train_test_split(x, y, test_size=0.25)\n",
    "\n",
    "#scale\n",
    "scaler = StandardScaler()\n",
    "scaler.fit(x)\n",
    "\n",
    "scaled_train = scaler.transform(xtrain)\n",
    "scaled_test = scaler.transform(xtest)\n",
    "\n",
    "#change rfep overall eligible from Yes -> 1 and No -> 0\n",
    "student_list_df['RFEP Overall Eligible'] = student_list_df['RFEP Overall Eligible'].replace({'Yes': 1, 'No': 0})\n",
    "\n",
    "#choose 3 models. Maybe 5 will be better idk\n",
    "e_svc = svm.SVC(kernel='linear')\n",
    "e_dectree = tree.DecisionTreeClassifier()\n",
    "e_NB = GaussianNB()\n",
    "e_Ada = AdaBoostClassifier()\n",
    "e_rf = RandomForestClassifier()\n",
    "\n",
    "#put the 5 models into an ensemble method \n",
    "ensemble = VotingClassifier(estimators=[('svc', e_svc), ('dectree', e_dectree), \n",
    "                                        ('NB', e_NB), ('Ada', e_Ada), ('RF', e_rf)], voting='hard') #voting ='soft' will use probabilities (might use later?)\n",
    "ensemble.fit(scaled_train, ytrain)"
   ]
  },
  {
   "cell_type": "code",
   "execution_count": 12,
   "metadata": {},
   "outputs": [
    {
     "data": {
      "text/plain": [
       "VotingClassifier(estimators=[('svc', SVC(kernel='linear')),\n",
       "                             ('dectree', DecisionTreeClassifier()),\n",
       "                             ('NB', GaussianNB()),\n",
       "                             ('Ada', AdaBoostClassifier()),\n",
       "                             ('RF', RandomForestClassifier())])"
      ]
     },
     "execution_count": 12,
     "metadata": {},
     "output_type": "execute_result"
    }
   ],
   "source": [
    "model = ensemble\n",
    "model"
   ]
  },
  {
   "cell_type": "code",
   "execution_count": null,
   "metadata": {},
   "outputs": [],
   "source": []
  }
 ],
 "metadata": {
  "interpreter": {
   "hash": "948d0881d054978e3a7b504d13b39c051c9f9e69f0cf604d08462f6eebeaf8eb"
  },
  "kernelspec": {
   "display_name": "Python 3.9.2 64-bit",
   "language": "python",
   "name": "python3"
  },
  "language_info": {
   "codemirror_mode": {
    "name": "ipython",
    "version": 3
   },
   "file_extension": ".py",
   "mimetype": "text/x-python",
   "name": "python",
   "nbconvert_exporter": "python",
   "pygments_lexer": "ipython3",
   "version": "3.9.2"
  },
  "orig_nbformat": 4
 },
 "nbformat": 4,
 "nbformat_minor": 2
}
