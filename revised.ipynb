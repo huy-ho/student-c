{
 "cells": [
  {
   "cell_type": "code",
   "execution_count": 1,
   "metadata": {},
   "outputs": [],
   "source": [
    "#pandas numpy\n",
    "import pandas as pd\n",
    "import numpy as np\n",
    "from numpy import mean\n",
    "\n",
    "#sklearn\n",
    "from sklearn import svm\n",
    "from sklearn.model_selection import train_test_split\n",
    "from sklearn.metrics import confusion_matrix, classification_report\n",
    "from sklearn import metrics\n",
    "from sklearn.tree import DecisionTreeClassifier\n",
    "from sklearn import tree\n",
    "from sklearn.preprocessing import StandardScaler\n",
    "from sklearn.model_selection import RepeatedStratifiedKFold, cross_val_score\n",
    "\n",
    "#imblearn for imbalanced data\n",
    "from imblearn.pipeline import Pipeline\n",
    "from imblearn.over_sampling import SMOTE\n",
    "from imblearn.under_sampling import RandomUnderSampler\n",
    "\n",
    "#matplotlib\n",
    "import matplotlib.pyplot as plt\n",
    "\n",
    "#counters\n",
    "from collections import Counter\n",
    "\n",
    "#others (os, graphwiz, excels)\n",
    "import graphviz \n",
    "import os\n",
    "import xlrd\n",
    "import openpyxl\n",
    "from sklearn.ensemble import VotingClassifier, AdaBoostClassifier, RandomForestClassifier, GradientBoostingClassifier\n",
    "from sklearn.naive_bayes import GaussianNB\n",
    "from sklearn.neural_network import MLPClassifier\n",
    "from sklearn.gaussian_process import GaussianProcessClassifier\n",
    "\n"
   ]
  },
  {
   "cell_type": "code",
   "execution_count": 3,
   "metadata": {},
   "outputs": [
    {
     "name": "stderr",
     "output_type": "stream",
     "text": [
      "C:\\Users\\huyho\\AppData\\Local\\Programs\\Python\\Python39\\lib\\site-packages\\sklearn\\neural_network\\_multilayer_perceptron.py:614: ConvergenceWarning: Stochastic Optimizer: Maximum iterations (200) reached and the optimization hasn't converged yet.\n",
      "  warnings.warn(\n"
     ]
    },
    {
     "data": {
      "text/plain": [
       "VotingClassifier(estimators=[('RF', DecisionTreeClassifier()),\n",
       "                             ('Ada', AdaBoostClassifier()),\n",
       "                             ('MLP', MLPClassifier()), ('svc', SVC()),\n",
       "                             ('gbc', GaussianProcessClassifier())])"
      ]
     },
     "execution_count": 3,
     "metadata": {},
     "output_type": "execute_result"
    }
   ],
   "source": [
    "global model\n",
    "global ensemble\n",
    "dir = 'c:\\\\Users\\\\huyho\\\\OneDrive\\\\Desktop\\\\stuff\\\\student-c'\n",
    "path = os.path.join(dir, \"RFEP Worksheet Fall20-21 Sample.xlsx\")\n",
    "\n",
    "xls = pd.ExcelFile(path)\n",
    "student_list_df = pd.read_excel(xls, sheet_name=1)\n",
    "wpa_data_df = pd.read_excel(xls, sheet_name=2)\n",
    "\n",
    "#x = features\n",
    "#y = target\n",
    "x = student_list_df[['Oral Level', 'Written Level', 'Listening', 'Speaking', 'Reading', 'Writing' , 'Current GPA', '18-19 Overall ELPAC']]\n",
    "y = student_list_df['RFEP Overall Eligible']\n",
    "x = x.fillna(0) #fill null values\n",
    "\n",
    "x = x.values\n",
    "y = y.values\n",
    "\n",
    "#Smote them due to imbalanced data\n",
    "over = SMOTE(sampling_strategy=0.1) #oversample the minority class to 1:10 ratio\n",
    "under = RandomUnderSampler(sampling_strategy=0.2) #undersample the majority class to a 1:2 ratio\n",
    "steps = [('over', over), ('under', under)]\n",
    "pipeline = Pipeline(steps=steps)\n",
    "x, y = pipeline.fit_resample(x, y)\n",
    "\n",
    "\n",
    "#split to training and testing\n",
    "xtrain, xtest, ytrain, ytest = train_test_split(x, y, test_size=0.25)\n",
    "\n",
    "\"\"\"#scale\n",
    "scaler = StandardScaler()\n",
    "scaler.fit(x)\n",
    "\n",
    "scaled_train = scaler.transform(xtrain)\n",
    "scaled_test = scaler.transform(xtest)\"\"\"\n",
    "\n",
    "#change rfep overall eligible from Yes -> 1 and No -> 0\n",
    "student_list_df['RFEP Overall Eligible'] = student_list_df['RFEP Overall Eligible'].replace({'Yes': 1, 'No': 0})\n",
    "\n",
    "#choose 3 models. Maybe 5 will be better idk\n",
    "e_rf = DecisionTreeClassifier()\n",
    "e_ada = AdaBoostClassifier()\n",
    "e_MLP = MLPClassifier()\n",
    "e_svc = svm.SVC() \n",
    "e_gbc = GaussianProcessClassifier()\n",
    "\n",
    "#put the 5 models into an ensemble method \n",
    "ensemble = VotingClassifier(estimators=[('RF', e_rf), ('Ada', e_ada), ('MLP', e_MLP), ('svc', e_svc), ('gbc', e_gbc)], voting='hard') #voting ='soft' will use probabilities (might use later?)\n",
    "\n",
    "ensemble.fit(xtrain, ytrain)"
   ]
  },
  {
   "cell_type": "code",
   "execution_count": 4,
   "metadata": {},
   "outputs": [
    {
     "data": {
      "text/plain": [
       "VotingClassifier(estimators=[('RF', DecisionTreeClassifier()),\n",
       "                             ('Ada', AdaBoostClassifier()),\n",
       "                             ('MLP', MLPClassifier()), ('svc', SVC()),\n",
       "                             ('gbc', GaussianProcessClassifier())])"
      ]
     },
     "execution_count": 4,
     "metadata": {},
     "output_type": "execute_result"
    }
   ],
   "source": [
    "model = ensemble\n",
    "model"
   ]
  },
  {
   "cell_type": "code",
   "execution_count": 5,
   "metadata": {},
   "outputs": [
    {
     "data": {
      "text/plain": [
       "0.946236559139785"
      ]
     },
     "execution_count": 5,
     "metadata": {},
     "output_type": "execute_result"
    }
   ],
   "source": [
    "model.score(xtest, ytest)"
   ]
  },
  {
   "cell_type": "code",
   "execution_count": 21,
   "metadata": {},
   "outputs": [
    {
     "name": "stdout",
     "output_type": "stream",
     "text": [
      "hi \n",
      "y\n"
     ]
    }
   ],
   "source": [
    "print(\"hi \\ny\")"
   ]
  },
  {
   "cell_type": "code",
   "execution_count": null,
   "metadata": {},
   "outputs": [],
   "source": []
  }
 ],
 "metadata": {
  "interpreter": {
   "hash": "948d0881d054978e3a7b504d13b39c051c9f9e69f0cf604d08462f6eebeaf8eb"
  },
  "kernelspec": {
   "display_name": "Python 3.9.2 64-bit",
   "language": "python",
   "name": "python3"
  },
  "language_info": {
   "codemirror_mode": {
    "name": "ipython",
    "version": 3
   },
   "file_extension": ".py",
   "mimetype": "text/x-python",
   "name": "python",
   "nbconvert_exporter": "python",
   "pygments_lexer": "ipython3",
   "version": "3.9.2"
  },
  "orig_nbformat": 4
 },
 "nbformat": 4,
 "nbformat_minor": 2
}
